{
 "cells": [
  {
   "cell_type": "code",
   "execution_count": 1,
   "metadata": {},
   "outputs": [],
   "source": [
    "import pandas as pd\n",
    "import numpy\n",
    "from tqdm.notebook import trange, tqdm\n",
    "import random\n",
    "import math\n",
    "import numpy\n",
    "from dataset import Dataset\n",
    "import pickle\n",
    "import os\n",
    "%load_ext line_profiler"
   ]
  },
  {
   "cell_type": "code",
   "execution_count": 2,
   "metadata": {},
   "outputs": [
    {
     "name": "stdout",
     "output_type": "stream",
     "text": [
      "Index file not found, creating now....\n",
      "3.128654956817627 Seconds\n",
      "Index file found.\n",
      "Index file found.\n",
      "Index file found.\n"
     ]
    }
   ],
   "source": [
    "data_file = 'data/ukwac-1L.txt'\n",
    "dataset = Dataset(data_file)\n",
    "training, validation, testing = dataset.partition((0.7, 0.1, 0.2), shuffle=True)"
   ]
  },
  {
   "cell_type": "code",
   "execution_count": 8,
   "metadata": {},
   "outputs": [],
   "source": [
    "class SequenceState:\n",
    "    def __init__(self):\n",
    "        self.sequences = {}\n",
    "        self.sequence_counts = {}\n",
    "        self.num_chars = 0\n",
    "    \n",
    "    def normalize_probs(self):\n",
    "        N = sum(self.sequence_counts.values())\n",
    "        self.sequence_counts = {k:-math.log(v/N) for k, v in self.sequence_counts.items()}\n",
    "        sq = {}\n",
    "        for k, v in self.sequences.items():\n",
    "            T = sum(v.values())\n",
    "            sq[k] = {x:-math.log(y/T) for x,y in v.items()}\n",
    "        self.sequences = sq\n",
    "    \n",
    "    def add_split_to_sequences(self, split):\n",
    "        for p, c in zip(split, split[1:]):\n",
    "            #print(p , c)\n",
    "            try:\n",
    "                self.sequences[p][c] += 1\n",
    "                self.sequence_counts[p] += 1\n",
    "            except:\n",
    "                #print(f\"{c} not in {p}\")\n",
    "                try:\n",
    "                    self.sequences[p][c] = 1\n",
    "                    self.sequence_counts[p] += 1\n",
    "                except:\n",
    "                 #   print(f\"{p} not exists\")\n",
    "                    self.sequences[p] = {c: 1}\n",
    "                    self.sequence_counts[p] = 1\n",
    "            self.num_chars += 1\n",
    "    "
   ]
  },
  {
   "cell_type": "code",
   "execution_count": 3,
   "metadata": {},
   "outputs": [],
   "source": [
    "from datetime import datetime\n",
    "timestamp_now = lambda : str(int(datetime.now().timestamp()))\n",
    "class Model:\n",
    "    def __init__(self, models_dir, model_name = timestamp_now()):\n",
    "        if not os.path.exists(models_dir):\n",
    "            raise Exception(\"Models Directory does not exist\")\n",
    "            \n",
    "        self.model_name = model_name\n",
    "        self.model_path = os.path.join(models_dir, model_name)\n",
    "        \n",
    "        \n",
    "        self.components = {}\n",
    "        \n",
    "        if self.model_dir_exists():\n",
    "            self.load_component_index()\n",
    "        else:\n",
    "            self.create_model_dir()\n",
    "            \n",
    "    def model_dir_exists(self):\n",
    "        if not os.path.exists(self.model_path):\n",
    "            return False\n",
    "        return True\n",
    "    \n",
    "    def create_model_dir(self):\n",
    "        if not os.path.exists(self.model_path):\n",
    "            os.mkdir(self.model_path)\n",
    "            \n",
    "    def load_component_index(self):\n",
    "        for file_name in os.listdir(self.model_path):\n",
    "            component_name = '.'.join(file_name.split('.')[:-1])\n",
    "            self.components[component_name] = (os.path.join(self.model_path, file_name), False)\n",
    "                     \n",
    "    \n",
    "    def save(self, item, value):\n",
    "        self.components[item] = (value, True)\n",
    "        file_name = os.path.join(self.model_path, item + '.pkl')\n",
    "        with open(file_name, 'wb') as f:\n",
    "            pickle.dump(value, f)\n",
    "        \n",
    "    \n",
    "    def load(self, item):\n",
    "        if item in self.components:\n",
    "            loaded = self.components[item][1]\n",
    "            if not loaded:\n",
    "                file_name = self.components[item][0]\n",
    "                with open(file_name,'rb') as f:\n",
    "                    self.components[item] = (pickle.load(f), True)\n",
    "            return self.components[item][0]\n",
    "        else:\n",
    "            raise Exception(f\"No Such Component={item} in the Model.\")\n",
    "        \n",
    "        #return self.components[item]\n",
    "    \n",
    "    "
   ]
  },
  {
   "cell_type": "code",
   "execution_count": 57,
   "metadata": {},
   "outputs": [],
   "source": [
    "seg_model = Model('models')"
   ]
  },
  {
   "cell_type": "code",
   "execution_count": 58,
   "metadata": {},
   "outputs": [],
   "source": [
    "seg_model.save('some_numbers', list(range(10)))\n",
    "seg_model.save('my_details', {'name':'Ganesh', 'age':29})"
   ]
  },
  {
   "cell_type": "code",
   "execution_count": 63,
   "metadata": {},
   "outputs": [],
   "source": [
    "seg_model = Model('models', model_name='1594058166')"
   ]
  },
  {
   "cell_type": "code",
   "execution_count": 65,
   "metadata": {},
   "outputs": [
    {
     "data": {
      "text/plain": [
       "[0, 1, 2, 3, 4, 5, 6, 7, 8, 9]"
      ]
     },
     "execution_count": 65,
     "metadata": {},
     "output_type": "execute_result"
    }
   ],
   "source": [
    "seg_model.load('some_numbers')"
   ]
  },
  {
   "cell_type": "code",
   "execution_count": 4,
   "metadata": {},
   "outputs": [],
   "source": [
    "def should_join(a, b, seq_state, theta=0.1):\n",
    "    try:\n",
    "        num_chars = seq_state.sequence_counts[a]\n",
    "        total_chars = seq_state.num_chars\n",
    "        \n",
    "        try:\n",
    "            prob_ab = seq_state.sequences[a][b] / num_chars\n",
    "        except:\n",
    "            n_distinct = len(seq_state.sequences[a])\n",
    "            \n",
    "            # What is the estimated probability that b follows a ?. Think of prob mass of a = a/N distributed\n",
    "            # across existing n_distinct chars which follow a.\n",
    "            prob_ab = seq_state.sequence_counts[a] / (total_chars * n_distinct)\n",
    "        \n",
    "        #print(a, b, prob_ab, theta, seq_state.sequences[a])\n",
    "        if prob_ab > theta:\n",
    "            return True\n",
    "    except Exception as e:\n",
    "        #print(a, b)\n",
    "        pass\n",
    "    return False\n"
   ]
  },
  {
   "cell_type": "code",
   "execution_count": 114,
   "metadata": {},
   "outputs": [],
   "source": [
    "class MDLRunner:\n",
    "    def __init__(self, training_dataset,  val_dataset, tokeniser, model):\n",
    "        self.theta = 0.1\n",
    "        self.inc = 0.05\n",
    "        self.seq_state = SequenceState()\n",
    "        self.training_dataset = training_dataset\n",
    "        self.val_dataset = val_dataset\n",
    "        self.scores = {}\n",
    "        self.model = model\n",
    "        self.tokeniser=tokeniser\n",
    "    \n",
    "    def evaluate(self, eval_file):\n",
    "        pass\n",
    "\n",
    "    def run_sentence(self, line):\n",
    "        stack = [line[0]]\n",
    "        for i in range(1, len(line)):\n",
    "            p,c = stack[-1], line[i]\n",
    "            #print(p, c)\n",
    "            s = should_join(p, c, self.seq_state, self.theta)         \n",
    "            if s:\n",
    "                stack[-1] += c\n",
    "            else:\n",
    "                stack.append(c)\n",
    "        return stack\n",
    "\n",
    "    def run(self, times, reset=True):\n",
    "        for i in range(times):\n",
    "            if reset:\n",
    "                self.do_reset()\n",
    "            print(f\"Running with theta={self.theta}\")\n",
    "            self.run_sequences()\n",
    "            self.seq_state.normalize_probs()\n",
    "            mdl_cost = self.get_mdl_cost()\n",
    "            print(f\"MDL cost : {mdl_cost}\")\n",
    "            self.scores[self.theta] = mdl_cost[-1]\n",
    "            self.model.save(f'mdl_{self.theta}', [self.seq_state, mdl_cost])\n",
    "            self.theta += self.inc\n",
    "            \n",
    "                \n",
    "    def do_reset(self):\n",
    "        self.seq_state = SequenceState()\n",
    "        \n",
    "        \n",
    "    def run_sequences(self):\n",
    "        \n",
    "        for line in tqdm(self.training_dataset, total=len(self.training_dataset.rows)):\n",
    "            #line = line.strip().replace(' ', '@')\n",
    "            #line = line.split('')\n",
    "            print(line)\n",
    "            line = self.tokeniser(line)\n",
    "            print(line)\n",
    "            #line = line.replace(' ', '')\n",
    "            if len(line) > 0:\n",
    "                #print(line)\n",
    "                #line = self.run_sentence(line)\n",
    "                split = self.run_sentence(line)                \n",
    "                #print(split)\n",
    "                self.seq_state.add_split_to_sequences(split)\n",
    "                \n",
    "        \n",
    "    def eval_sequence(self, seq):\n",
    "        tot_prob = 0\n",
    "        if seq[0] in self.seq_state.sequence_counts:\n",
    "            tot_prob = self.seq_state.sequence_counts[seq[0]]        \n",
    "        #print(seq[0], tot_prob)\n",
    "        for i in range(1, len(seq)):\n",
    "            \n",
    "            if (seq[i-1] in self.seq_state.sequences) and (seq[i] in self.seq_state.sequences[seq[i-1]]):\n",
    "                tot_prob += self.seq_state.sequences[seq[i-1]][seq[i]]\n",
    "                #print(seq[i-1], seq[i],tot_prob)\n",
    "        return tot_prob\n",
    "    \n",
    "    def eval_sequences(self, eval_dataset):\n",
    "        tot_prob = 0\n",
    "        total = len(eval_dataset.rows)\n",
    "        for line in tqdm(eval_dataset, total=total):\n",
    "            #line = line.strip().replace(' ', '@')\n",
    "            #line = line.split('')\n",
    "            #line = self.run_sentence(line)\n",
    "            line = self.tokeniser(line)\n",
    "            if len(line) > 0:\n",
    "                split = self.run_sentence(line)\n",
    "                #print(line, split)\n",
    "                \n",
    "                tot_prob += self.eval_sequence(list(split))\n",
    "        return tot_prob / total\n",
    "    \n",
    "    def best_model(self):\n",
    "        sorted_scores = sorted(self.scores.items(), key = lambda x : x[1])\n",
    "        self.best = (sorted_scores[0])\n",
    "        return self.best\n",
    "    \n",
    "    def get_mdl_cost(self):\n",
    "        prob = self.eval_sequences(self.val_dataset)\n",
    "        s = [len(v) for k, v in self.seq_state.sequences.items()]\n",
    "        s = sum(s)\n",
    "        return prob, s, prob\n",
    "    \n",
    "    \n",
    "    #def split_with(self, )"
   ]
  },
  {
   "cell_type": "code",
   "execution_count": 118,
   "metadata": {},
   "outputs": [],
   "source": [
    "class SplitLearner:\n",
    "    def __init__(self, epochs, data_file, model_params):\n",
    "        self.data_file = data_file\n",
    "        self.model_dir, self.model_prefix = model_params\n",
    "        self.epochs = epochs\n",
    "        self.best_model = {}\n",
    "    \n",
    "    def save_dataset(self, epoch, dataset, model_file_name):\n",
    "        save_file = f\"{self.model_dir}/{self.model_prefix}_epoch_{epoch}.dataset\" \n",
    "        model = Model(self.model_dir, model_file_name)\n",
    "        mdl_runner = MDLRunner(None, None, None, model = model)\n",
    "        theta = self.best_model[epoch]\n",
    "        mdl_runner.seq_state, score = model.load(f\"mdl_{theta}\")\n",
    "        print(f\"Saving epoch={epoch} with best_model={theta}\")\n",
    "        if os.path.exists(save_file):\n",
    "            os.remove(save_file)\n",
    "        with open(save_file, 'w') as s:\n",
    "            for line in tqdm(dataset, total=len(dataset.rows)):\n",
    "                line = line.strip()\n",
    "                split_line = mdl_runner.run_sentence(line)\n",
    "                line = ' '.join(split_line)\n",
    "                s.write(line + '\\n')\n",
    "        return save_file\n",
    "                \n",
    "    \n",
    "    def get_tokeniser(self, mdl_runner):\n",
    "        def tokenise(sentence):\n",
    "            se\n",
    "            return [x for x in mdl_runner.run_sentence(sentence) if len(x) > 0]\n",
    "        return tokenise\n",
    "    \n",
    "    def run(self):\n",
    "        current_file = self.data_file\n",
    "        current_tok = lambda x : x\n",
    "        for i in range(self.epochs):\n",
    "            print(f\"Running epoch={i+1}/{self.epochs}\")\n",
    "            model_file_name = self.model_prefix + \"_epoch_\" + str(i+1)\n",
    "            mdl_model = Model(self.model_dir, model_file_name)\n",
    "        \n",
    "            dataset = Dataset(current_file)\n",
    "            training, validation, testing = dataset.partition((0.7, 0.1, 0.2), shuffle=True)\n",
    "            mdl_runner = MDLRunner(training, validation,  tokeniser = current_tok, model = mdl_model)\n",
    "            mdl_runner.theta = 0.25\n",
    "            mdl_runner.run(times=2)\n",
    "            theta, score = mdl_runner.best_model()\n",
    "            self.best_model[i] = theta\n",
    "            current_file =self.save_dataset(i, dataset, model_file_name)\n",
    "            mdl_runner.seq_state, score = mdl_model.load(f\"mdl_{theta}\")\n",
    "\n",
    "            #current_tok = self.get_tokeniser(mdl_runner)\n",
    "            current_tok = lambda x : x.split(' ')\n"
   ]
  },
  {
   "cell_type": "code",
   "execution_count": 119,
   "metadata": {},
   "outputs": [],
   "source": [
    "spl_learner = SplitLearner(2, 'data/test.txt', ('models', 'mdl_model_test'))"
   ]
  },
  {
   "cell_type": "code",
   "execution_count": 120,
   "metadata": {},
   "outputs": [
    {
     "name": "stdout",
     "output_type": "stream",
     "text": [
      "Running epoch=1/2\n",
      "Index file found.\n",
      "Index file found.\n",
      "Index file found.\n",
      "Index file found.\n",
      "Running with theta=0.25\n"
     ]
    },
    {
     "data": {
      "application/vnd.jupyter.widget-view+json": {
       "model_id": "8e01f57210944cf9b544ca7fca5fea04",
       "version_major": 2,
       "version_minor": 0
      },
      "text/plain": [
       "HBox(children=(FloatProgress(value=0.0, max=20.0), HTML(value='')))"
      ]
     },
     "metadata": {},
     "output_type": "display_data"
    },
    {
     "name": "stdout",
     "output_type": "stream",
     "text": [
      "cats are nice and they are sat on the mat\n",
      "\n",
      "cats are nice and they are sat on the mat\n",
      "\n",
      "I like the apples and oranges\n",
      "\n",
      "I like the apples and oranges\n",
      "\n",
      "the cat sat on the mat\n",
      "\n",
      "the cat sat on the mat\n",
      "\n",
      "the apples are on the mats.\n",
      "\n",
      "the apples are on the mats.\n",
      "\n",
      "Hi !\n",
      "\n",
      "Hi !\n",
      "\n",
      "I like the apples and oranges\n",
      "\n",
      "I like the apples and oranges\n",
      "\n",
      "the cat sat on the mat\n",
      "\n",
      "the cat sat on the mat\n",
      "\n",
      "Hi !\n",
      "\n",
      "Hi !\n",
      "\n",
      "the cat sat on the mat\n",
      "\n",
      "the cat sat on the mat\n",
      "\n",
      "My name is Ganesh.\n",
      "\n",
      "My name is Ganesh.\n",
      "\n",
      "I like the apples and oranges\n",
      "\n",
      "I like the apples and oranges\n",
      "\n",
      "Hi !\n",
      "\n",
      "Hi !\n",
      "\n",
      "the cat sat on the mat\n",
      "\n",
      "the cat sat on the mat\n",
      "\n",
      "I like the apples and oranges\n",
      "\n",
      "I like the apples and oranges\n",
      "\n",
      "cats are nice and they are sat on the mat\n",
      "\n",
      "cats are nice and they are sat on the mat\n",
      "\n",
      "cats are nice and they are sat on the mat\n",
      "\n",
      "cats are nice and they are sat on the mat\n",
      "\n",
      "My name is Ganesh.\n",
      "\n",
      "My name is Ganesh.\n",
      "\n",
      "the apples are on the mats.\n",
      "\n",
      "the apples are on the mats.\n",
      "\n",
      "My name is Ganesh.\n",
      "\n",
      "My name is Ganesh.\n",
      "\n",
      "cats are nice and they are sat on the mat\n",
      "\n",
      "cats are nice and they are sat on the mat\n",
      "\n",
      "\n"
     ]
    },
    {
     "data": {
      "application/vnd.jupyter.widget-view+json": {
       "model_id": "affa5ede3dcb400baeefca0caeb7046b",
       "version_major": 2,
       "version_minor": 0
      },
      "text/plain": [
       "HBox(children=(FloatProgress(value=0.0, max=2.0), HTML(value='')))"
      ]
     },
     "metadata": {},
     "output_type": "display_data"
    },
    {
     "name": "stdout",
     "output_type": "stream",
     "text": [
      "\n",
      "MDL cost : (5.941284969881812, 172, 5.941284969881812)\n",
      "Running with theta=0.3\n"
     ]
    },
    {
     "data": {
      "application/vnd.jupyter.widget-view+json": {
       "model_id": "26440c0267ca42788a95d1d7c37adce6",
       "version_major": 2,
       "version_minor": 0
      },
      "text/plain": [
       "HBox(children=(FloatProgress(value=0.0, max=20.0), HTML(value='')))"
      ]
     },
     "metadata": {},
     "output_type": "display_data"
    },
    {
     "name": "stdout",
     "output_type": "stream",
     "text": [
      "cats are nice and they are sat on the mat\n",
      "\n",
      "cats are nice and they are sat on the mat\n",
      "\n",
      "I like the apples and oranges\n",
      "\n",
      "I like the apples and oranges\n",
      "\n",
      "the cat sat on the mat\n",
      "\n",
      "the cat sat on the mat\n",
      "\n",
      "the apples are on the mats.\n",
      "\n",
      "the apples are on the mats.\n",
      "\n",
      "Hi !\n",
      "\n",
      "Hi !\n",
      "\n",
      "I like the apples and oranges\n",
      "\n",
      "I like the apples and oranges\n",
      "\n",
      "the cat sat on the mat\n",
      "\n",
      "the cat sat on the mat\n",
      "\n",
      "Hi !\n",
      "\n",
      "Hi !\n",
      "\n",
      "the cat sat on the mat\n",
      "\n",
      "the cat sat on the mat\n",
      "\n",
      "My name is Ganesh.\n",
      "\n",
      "My name is Ganesh.\n",
      "\n",
      "I like the apples and oranges\n",
      "\n",
      "I like the apples and oranges\n",
      "\n",
      "Hi !\n",
      "\n",
      "Hi !\n",
      "\n",
      "the cat sat on the mat\n",
      "\n",
      "the cat sat on the mat\n",
      "\n",
      "I like the apples and oranges\n",
      "\n",
      "I like the apples and oranges\n",
      "\n",
      "cats are nice and they are sat on the mat\n",
      "\n",
      "cats are nice and they are sat on the mat\n",
      "\n",
      "cats are nice and they are sat on the mat\n",
      "\n",
      "cats are nice and they are sat on the mat\n",
      "\n",
      "My name is Ganesh.\n",
      "\n",
      "My name is Ganesh.\n",
      "\n",
      "the apples are on the mats.\n",
      "\n",
      "the apples are on the mats.\n",
      "\n",
      "My name is Ganesh.\n",
      "\n",
      "My name is Ganesh.\n",
      "\n",
      "cats are nice and they are sat on the mat\n",
      "\n",
      "cats are nice and they are sat on the mat\n",
      "\n",
      "\n"
     ]
    },
    {
     "data": {
      "application/vnd.jupyter.widget-view+json": {
       "model_id": "86e29e2dcc08431ba5bbed46d21cbdfc",
       "version_major": 2,
       "version_minor": 0
      },
      "text/plain": [
       "HBox(children=(FloatProgress(value=0.0, max=2.0), HTML(value='')))"
      ]
     },
     "metadata": {},
     "output_type": "display_data"
    },
    {
     "name": "stdout",
     "output_type": "stream",
     "text": [
      "\n",
      "MDL cost : (5.963344687946544, 171, 5.963344687946544)\n",
      "Saving epoch=0 with best_model=0.25\n"
     ]
    },
    {
     "data": {
      "application/vnd.jupyter.widget-view+json": {
       "model_id": "70b2b9ad45c0427e8721e55e119b184d",
       "version_major": 2,
       "version_minor": 0
      },
      "text/plain": [
       "HBox(children=(FloatProgress(value=0.0, max=29.0), HTML(value='')))"
      ]
     },
     "metadata": {},
     "output_type": "display_data"
    },
    {
     "name": "stdout",
     "output_type": "stream",
     "text": [
      "\n",
      "Running epoch=2/2\n",
      "Index file found.\n",
      "Index file found.\n",
      "Index file found.\n",
      "Index file found.\n",
      "Running with theta=0.25\n"
     ]
    },
    {
     "data": {
      "application/vnd.jupyter.widget-view+json": {
       "model_id": "5db15004ba9a4d7d80ff8698ebc8935e",
       "version_major": 2,
       "version_minor": 0
      },
      "text/plain": [
       "HBox(children=(FloatProgress(value=0.0, max=20.0), HTML(value='')))"
      ]
     },
     "metadata": {},
     "output_type": "display_data"
    },
    {
     "name": "stdout",
     "output_type": "stream",
     "text": [
      "n  t he m at s.\n",
      "H i  !\n",
      "I  l \n",
      "['n', '', 't', 'he', 'm', 'at', 's.\\nH', 'i', '', '!\\nI', '', 'l', '']\n",
      "k e t h\n",
      "['k', 'e', 't', 'h']\n",
      "!\n",
      "M y  n am e i s Ga ne sh .\n",
      "th e  ca t  s\n",
      "['!\\nM', 'y', '', 'n', 'am', 'e', 'i', 's', 'Ga', 'ne', 'sh', '.\\nth', 'e', '', 'ca', 't', '', 's']\n",
      "a nd  t\n",
      "['a', 'nd', '', 't']\n",
      "e a pp les  a nd  o ra ng es\n",
      "H i  !\n",
      "th \n",
      "['e', 'a', 'pp', 'les', '', 'a', 'nd', '', 'o', 'ra', 'ng', 'es\\nH', 'i', '', '!\\nth', '']\n",
      " he m at\n",
      "M y  n am e i s Ga ne sh .\n",
      "I  l i\n",
      "['', 'he', 'm', 'at\\nM', 'y', '', 'n', 'am', 'e', 'i', 's', 'Ga', 'ne', 'sh', '.\\nI', '', 'l', 'i']\n",
      "s  a r e  ni ce  a nd  t he y  a r e  sa t  on  t he m at\n",
      "H \n",
      "['s', '', 'a', 'r', 'e', '', 'ni', 'ce', '', 'a', 'nd', '', 't', 'he', 'y', '', 'a', 'r', 'e', '', 'sa', 't', '', 'on', '', 't', 'he', 'm', 'at\\nH', '']\n",
      "ts  a r e  ni ce  a nd  t he\n",
      "['ts', '', 'a', 'r', 'e', '', 'ni', 'ce', '', 'a', 'nd', '', 't', 'he']\n",
      " he y  \n",
      "['', 'he', 'y', '', '']\n",
      "es  a r e  on  t he m at s.\n",
      "ca t\n",
      "['es', '', 'a', 'r', 'e', '', 'on', '', 't', 'he', 'm', 'at', 's.\\nca', 't']\n",
      "e  a nd  t he y  a r e  sa t\n",
      "['e', '', 'a', 'nd', '', 't', 'he', 'y', '', 'a', 'r', 'e', '', 'sa', 't']\n",
      "y  a r e  sa t  on  t he m at\n",
      "I  l ik e t he a pp les  a nd \n",
      "['y', '', 'a', 'r', 'e', '', 'sa', 't', '', 'on', '', 't', 'he', 'm', 'at\\nI', '', 'l', 'ik', 'e', 't', 'he', 'a', 'pp', 'les', '', 'a', 'nd', '']\n",
      "m at\n",
      "th e a pp les  a r e  o\n",
      "['m', 'at\\nth', 'e', 'a', 'pp', 'les', '', 'a', 'r', 'e', '', 'o']\n",
      "  on  t he m at\n",
      "M y  n am e \n",
      "['', '', 'on', '', 't', 'he', 'm', 'at\\nM', 'y', '', 'n', 'am', 'e', '']\n",
      "he a pp les  a nd  o ra ng es\n",
      "th\n",
      "['he', 'a', 'pp', 'les', '', 'a', 'nd', '', 'o', 'ra', 'ng', 'es\\nth']\n",
      "a r e  sa t  on  t he m at\n",
      "th e a pp le\n",
      "['a', 'r', 'e', '', 'sa', 't', '', 'on', '', 't', 'he', 'm', 'at\\nth', 'e', 'a', 'pp', 'le']\n",
      " y  a r e  sa t  on  t he m at\n",
      "ca ts  a r \n",
      "['', 'y', '', 'a', 'r', 'e', '', 'sa', 't', '', 'on', '', 't', 'he', 'm', 'at\\nca', 'ts', '', 'a', 'r', '']\n",
      "e  ca t  sa t  on  t he m at\n",
      "I  l ik e t h\n",
      "['e', '', 'ca', 't', '', 'sa', 't', '', 'on', '', 't', 'he', 'm', 'at\\nI', '', 'l', 'ik', 'e', 't', 'h']\n",
      "ik e t \n",
      "['ik', 'e', 't', '']\n",
      " am e i s Ga ne sh .\n",
      "ca ts  a r e  ni ce  \n",
      "['', 'am', 'e', 'i', 's', 'Ga', 'ne', 'sh', '.\\nca', 'ts', '', 'a', 'r', 'e', '', 'ni', 'ce', '', '']\n",
      "\n"
     ]
    },
    {
     "data": {
      "application/vnd.jupyter.widget-view+json": {
       "model_id": "fdd3506a54274e52af0d05b14b08bd3c",
       "version_major": 2,
       "version_minor": 0
      },
      "text/plain": [
       "HBox(children=(FloatProgress(value=0.0, max=2.0), HTML(value='')))"
      ]
     },
     "metadata": {},
     "output_type": "display_data"
    },
    {
     "name": "stdout",
     "output_type": "stream",
     "text": [
      "\n",
      "MDL cost : (4.463926314372593, 150, 4.463926314372593)\n",
      "Running with theta=0.3\n"
     ]
    },
    {
     "data": {
      "application/vnd.jupyter.widget-view+json": {
       "model_id": "2119a8f12c4e43debe708968cec7fc6b",
       "version_major": 2,
       "version_minor": 0
      },
      "text/plain": [
       "HBox(children=(FloatProgress(value=0.0, max=20.0), HTML(value='')))"
      ]
     },
     "metadata": {},
     "output_type": "display_data"
    },
    {
     "name": "stdout",
     "output_type": "stream",
     "text": [
      "n  t he m at s.\n",
      "H i  !\n",
      "I  l \n",
      "['n', '', 't', 'he', 'm', 'at', 's.\\nH', 'i', '', '!\\nI', '', 'l', '']\n",
      "k e t h\n",
      "['k', 'e', 't', 'h']\n",
      "!\n",
      "M y  n am e i s Ga ne sh .\n",
      "th e  ca t  s\n",
      "['!\\nM', 'y', '', 'n', 'am', 'e', 'i', 's', 'Ga', 'ne', 'sh', '.\\nth', 'e', '', 'ca', 't', '', 's']\n",
      "a nd  t\n",
      "['a', 'nd', '', 't']\n",
      "e a pp les  a nd  o ra ng es\n",
      "H i  !\n",
      "th \n",
      "['e', 'a', 'pp', 'les', '', 'a', 'nd', '', 'o', 'ra', 'ng', 'es\\nH', 'i', '', '!\\nth', '']\n",
      " he m at\n",
      "M y  n am e i s Ga ne sh .\n",
      "I  l i\n",
      "['', 'he', 'm', 'at\\nM', 'y', '', 'n', 'am', 'e', 'i', 's', 'Ga', 'ne', 'sh', '.\\nI', '', 'l', 'i']\n",
      "s  a r e  ni ce  a nd  t he y  a r e  sa t  on  t he m at\n",
      "H \n",
      "['s', '', 'a', 'r', 'e', '', 'ni', 'ce', '', 'a', 'nd', '', 't', 'he', 'y', '', 'a', 'r', 'e', '', 'sa', 't', '', 'on', '', 't', 'he', 'm', 'at\\nH', '']\n",
      "ts  a r e  ni ce  a nd  t he\n",
      "['ts', '', 'a', 'r', 'e', '', 'ni', 'ce', '', 'a', 'nd', '', 't', 'he']\n",
      " he y  \n",
      "['', 'he', 'y', '', '']\n",
      "es  a r e  on  t he m at s.\n",
      "ca t\n",
      "['es', '', 'a', 'r', 'e', '', 'on', '', 't', 'he', 'm', 'at', 's.\\nca', 't']\n",
      "e  a nd  t he y  a r e  sa t\n",
      "['e', '', 'a', 'nd', '', 't', 'he', 'y', '', 'a', 'r', 'e', '', 'sa', 't']\n",
      "y  a r e  sa t  on  t he m at\n",
      "I  l ik e t he a pp les  a nd \n",
      "['y', '', 'a', 'r', 'e', '', 'sa', 't', '', 'on', '', 't', 'he', 'm', 'at\\nI', '', 'l', 'ik', 'e', 't', 'he', 'a', 'pp', 'les', '', 'a', 'nd', '']\n",
      "m at\n",
      "th e a pp les  a r e  o\n",
      "['m', 'at\\nth', 'e', 'a', 'pp', 'les', '', 'a', 'r', 'e', '', 'o']\n",
      "  on  t he m at\n",
      "M y  n am e \n",
      "['', '', 'on', '', 't', 'he', 'm', 'at\\nM', 'y', '', 'n', 'am', 'e', '']\n",
      "he a pp les  a nd  o ra ng es\n",
      "th\n",
      "['he', 'a', 'pp', 'les', '', 'a', 'nd', '', 'o', 'ra', 'ng', 'es\\nth']\n",
      "a r e  sa t  on  t he m at\n",
      "th e a pp le\n",
      "['a', 'r', 'e', '', 'sa', 't', '', 'on', '', 't', 'he', 'm', 'at\\nth', 'e', 'a', 'pp', 'le']\n",
      " y  a r e  sa t  on  t he m at\n",
      "ca ts  a r \n",
      "['', 'y', '', 'a', 'r', 'e', '', 'sa', 't', '', 'on', '', 't', 'he', 'm', 'at\\nca', 'ts', '', 'a', 'r', '']\n",
      "e  ca t  sa t  on  t he m at\n",
      "I  l ik e t h\n",
      "['e', '', 'ca', 't', '', 'sa', 't', '', 'on', '', 't', 'he', 'm', 'at\\nI', '', 'l', 'ik', 'e', 't', 'h']\n",
      "ik e t \n",
      "['ik', 'e', 't', '']\n",
      " am e i s Ga ne sh .\n",
      "ca ts  a r e  ni ce  \n",
      "['', 'am', 'e', 'i', 's', 'Ga', 'ne', 'sh', '.\\nca', 'ts', '', 'a', 'r', 'e', '', 'ni', 'ce', '', '']\n",
      "\n"
     ]
    },
    {
     "data": {
      "application/vnd.jupyter.widget-view+json": {
       "model_id": "3432e24cd57c4ebe933dfb47ab9b90de",
       "version_major": 2,
       "version_minor": 0
      },
      "text/plain": [
       "HBox(children=(FloatProgress(value=0.0, max=2.0), HTML(value='')))"
      ]
     },
     "metadata": {},
     "output_type": "display_data"
    },
    {
     "name": "stdout",
     "output_type": "stream",
     "text": [
      "\n",
      "MDL cost : (6.108462204363202, 150, 6.108462204363202)\n",
      "Saving epoch=1 with best_model=0.25\n"
     ]
    },
    {
     "data": {
      "application/vnd.jupyter.widget-view+json": {
       "model_id": "d272b049e98e4d31b34311847d324274",
       "version_major": 2,
       "version_minor": 0
      },
      "text/plain": [
       "HBox(children=(FloatProgress(value=0.0, max=29.0), HTML(value='')))"
      ]
     },
     "metadata": {},
     "output_type": "display_data"
    },
    {
     "name": "stdout",
     "output_type": "stream",
     "text": [
      "\n"
     ]
    }
   ],
   "source": [
    "spl_learner.run()"
   ]
  },
  {
   "cell_type": "code",
   "execution_count": 131,
   "metadata": {},
   "outputs": [],
   "source": [
    "mdl_model = Model('models', 'mdl_model_test_epoch_2')"
   ]
  },
  {
   "cell_type": "code",
   "execution_count": 26,
   "metadata": {},
   "outputs": [
    {
     "name": "stdout",
     "output_type": "stream",
     "text": [
      "Running with theta=0.25 epoch=1/1\n"
     ]
    },
    {
     "data": {
      "application/vnd.jupyter.widget-view+json": {
       "model_id": "93151fd42a004d1eb3f94e1b41be27c8",
       "version_major": 2,
       "version_minor": 0
      },
      "text/plain": [
       "HBox(children=(FloatProgress(value=0.0, max=70000.0), HTML(value='')))"
      ]
     },
     "metadata": {},
     "output_type": "display_data"
    },
    {
     "name": "stdout",
     "output_type": "stream",
     "text": [
      "\n"
     ]
    },
    {
     "data": {
      "application/vnd.jupyter.widget-view+json": {
       "model_id": "bb9183c7296e4f13888457cafb2649fa",
       "version_major": 2,
       "version_minor": 0
      },
      "text/plain": [
       "HBox(children=(FloatProgress(value=0.0, max=10000.0), HTML(value='')))"
      ]
     },
     "metadata": {},
     "output_type": "display_data"
    },
    {
     "name": "stdout",
     "output_type": "stream",
     "text": [
      "\n",
      "MDL cost : (1.94509805027791, 16577, 1.94509805027791)\n"
     ]
    }
   ],
   "source": [
    "mdl_runner = MDLRunner(training, validation,  model = mdl_model)\n",
    "#mdl_runner.inc = 0.05\n",
    "mdl_runner.theta = 0.25\n",
    "mdl_runner.run(times=1, epochs=1)\n",
    "#mdl_runner.best_model()"
   ]
  },
  {
   "cell_type": "code",
   "execution_count": 59,
   "metadata": {},
   "outputs": [
    {
     "data": {
      "text/plain": [
       "{'mdl_0.25': ([<__main__.SequenceState at 0x7f0e73937f28>,\n",
       "   (6.939929530524779, 166, 6.939929530524779)],\n",
       "  True),\n",
       " 'mdl_0.3': ('models/mdl_model_test_epoch_1/mdl_0.3.pkl', False)}"
      ]
     },
     "execution_count": 59,
     "metadata": {},
     "output_type": "execute_result"
    }
   ],
   "source": [
    "mdl_model.components"
   ]
  },
  {
   "cell_type": "code",
   "execution_count": 143,
   "metadata": {},
   "outputs": [
    {
     "name": "stdout",
     "output_type": "stream",
     "text": [
      "the cat sat on the mat\n",
      "Running with epoch=0 theta=0.25\n",
      "the cat sat on the mat\n",
      "['th', 'e ', 'ca', 't ', 'sa', 't ', 'on', ' t', 'he m', 'at']\n",
      "th e  ca t  sa t  on  t he m at\n",
      "Running with epoch=1 theta=0.25\n",
      "['th', 'e', 'ca', 't', 'sa', 't', 'on', 't', 'he', 'm', 'at']\n",
      "['th', 'e', 'ca', 't', 'sa', 'ton', 'themat']\n",
      "th e ca t sa ton themat\n"
     ]
    }
   ],
   "source": [
    "r = random.randint(1,100)\n",
    "line = testing[r]\n",
    "line = \"the cat sat on the mat\"\n",
    "print(line)\n",
    "mdl_runner = MDLRunner(None, None, None, None)\n",
    "for epoch, theta in spl_learner.best_model.items():\n",
    "    print(f\"Running with epoch={epoch} theta={theta}\")\n",
    "    mdl_model = Model('models', spl_learner.model_prefix + '_epoch_' + str(epoch+1))\n",
    "    mdl_runner.seq_state, score = mdl_model.load(f\"mdl_{theta}\")\n",
    "    #mdl_runner.run(times=1)\n",
    "    #line = line.strip().replace(' ', '')\n",
    "    if type(line) == list:\n",
    "        line = ' '.join(line)\n",
    "        line = [x for x in line.split(' ') if len(x) > 0]\n",
    "    print(line)\n",
    "    \n",
    "    split_line = mdl_runner.run_sentence(line)\n",
    "    print(split_line)\n",
    "    print(' '.join(split_line))\n",
    "    line = split_line"
   ]
  },
  {
   "cell_type": "code",
   "execution_count": 125,
   "metadata": {},
   "outputs": [
    {
     "ename": "TypeError",
     "evalue": "run() got an unexpected keyword argument 'epochs'",
     "output_type": "error",
     "traceback": [
      "\u001b[0;31m---------------------------------------------------------------------------\u001b[0m",
      "\u001b[0;31mTypeError\u001b[0m                                 Traceback (most recent call last)",
      "\u001b[0;32m<ipython-input-125-57635d43a450>\u001b[0m in \u001b[0;36m<module>\u001b[0;34m\u001b[0m\n\u001b[1;32m      3\u001b[0m \u001b[0;31m#mdl_runner.inc = 0.05\u001b[0m\u001b[0;34m\u001b[0m\u001b[0;34m\u001b[0m\u001b[0;34m\u001b[0m\u001b[0m\n\u001b[1;32m      4\u001b[0m \u001b[0mmdl_runner\u001b[0m\u001b[0;34m.\u001b[0m\u001b[0mtheta\u001b[0m \u001b[0;34m=\u001b[0m \u001b[0;36m0.25\u001b[0m\u001b[0;34m\u001b[0m\u001b[0;34m\u001b[0m\u001b[0m\n\u001b[0;32m----> 5\u001b[0;31m \u001b[0mmdl_runner\u001b[0m\u001b[0;34m.\u001b[0m\u001b[0mrun\u001b[0m\u001b[0;34m(\u001b[0m\u001b[0mtimes\u001b[0m\u001b[0;34m=\u001b[0m\u001b[0;36m1\u001b[0m\u001b[0;34m,\u001b[0m \u001b[0mepochs\u001b[0m\u001b[0;34m=\u001b[0m\u001b[0;36m1\u001b[0m\u001b[0;34m)\u001b[0m\u001b[0;34m\u001b[0m\u001b[0;34m\u001b[0m\u001b[0m\n\u001b[0m",
      "\u001b[0;31mTypeError\u001b[0m: run() got an unexpected keyword argument 'epochs'"
     ]
    }
   ],
   "source": [
    "mdl_model_2 = Model('models', 'mdl_model_eng_ukwac_1L_split_1')\n",
    "mdl_runner = MDLRunner(training, validation, tokeniser = lambda x : x, model = mdl_model)\n",
    "#mdl_runner.inc = 0.05\n",
    "mdl_runner.theta = 0.25\n",
    "mdl_runner.run(times=1, epochs=1)\n"
   ]
  },
  {
   "cell_type": "code",
   "execution_count": 158,
   "metadata": {},
   "outputs": [
    {
     "data": {
      "application/vnd.jupyter.widget-view+json": {
       "model_id": "2953600e11d04e908074c95f716696af",
       "version_major": 2,
       "version_minor": 0
      },
      "text/plain": [
       "HBox(children=(FloatProgress(value=0.0, max=100000.0), HTML(value='')))"
      ]
     },
     "metadata": {},
     "output_type": "display_data"
    },
    {
     "name": "stdout",
     "output_type": "stream",
     "text": [
      "\n"
     ]
    }
   ],
   "source": [
    "theta, _ = sorted_scores[0]\n",
    "os.remove('data/ukwac-1L.split_1.txt')\n",
    "with open('data/ukwac-1L.split_1.txt', 'w') as f:\n",
    "    for line in tqdm(dataset, total = len(dataset.rows)):\n",
    "        #print(f\"Running with theta={theta} which has an eval_score={eval_score}\")\n",
    "        line = line.strip()\n",
    "        if len(line) > 0:\n",
    "            mdl_runner.seq_state, score = mdl_model.load(f\"mdl_{theta}\")\n",
    "            line = line.strip().replace(' ', '@')\n",
    "            split_line = mdl_runner.run_sentence(line)\n",
    "            split_line = ' '.join(split_line).replace('@',' ')\n",
    "            f.write(split_line + '\\n')"
   ]
  },
  {
   "cell_type": "code",
   "execution_count": 137,
   "metadata": {},
   "outputs": [
    {
     "name": "stdout",
     "output_type": "stream",
     "text": [
      "0 0\n"
     ]
    }
   ],
   "source": [
    "a = mdl_runner.eval_sequence(list('winnAru'))\n",
    "b = mdl_runner.eval_sequence(['winnAru'])\n",
    "print(a,b)\n",
    "#mdl_runner.seq_state.sequences['c']"
   ]
  },
  {
   "cell_type": "code",
   "execution_count": 15,
   "metadata": {},
   "outputs": [
    {
     "data": {
      "text/plain": [
       "6.907755278982137"
      ]
     },
     "execution_count": 15,
     "metadata": {},
     "output_type": "execute_result"
    }
   ],
   "source": [
    "-math.log(0.001)"
   ]
  },
  {
   "cell_type": "code",
   "execution_count": 18,
   "metadata": {},
   "outputs": [
    {
     "data": {
      "text/plain": [
       "[('ject', 8.4674505550976),\n",
       " ('just', 8.944582333077117),\n",
       " ('This', 9.478428607833488),\n",
       " ('quire', 9.754759820616579),\n",
       " ('quality', 10.073778045117306),\n",
       " ('quest', 10.202882693018477),\n",
       " ('question', 10.655372739771504),\n",
       " ('ment', 10.700835113848262),\n",
       " ('quired', 10.706666034159056),\n",
       " ('ques', 10.712531153611454),\n",
       " ('qual', 10.766925225677252),\n",
       " ('York', 10.950489790710805),\n",
       " ('Queen', 11.57166347164566),\n",
       " ('quir', 11.5856497136204),\n",
       " ('questions', 11.737455726488404),\n",
       " ('quirements', 11.787886580115297),\n",
       " ('quent', 11.956509292551088),\n",
       " ('qualified', 12.041667100891395),\n",
       " ('qualification', 12.110659972378347),\n",
       " ('quiry', 12.134757523957408),\n",
       " ('quiries', 12.159450136547779),\n",
       " ('quence', 12.18476794453207),\n",
       " ('qualifications', 12.38259368786199),\n",
       " ('quare', 12.44713220899956),\n",
       " ('Question', 12.481033760675242),\n",
       " ('quently', 12.516125080486512),\n",
       " ('quar', 12.552492724657386),\n",
       " ('quarter', 12.590233052640233),\n",
       " ('Quality', 12.590233052640233),\n",
       " ('quirement', 12.67027576031377),\n",
       " ('qualities', 12.67027576031377),\n",
       " ('qualify', 12.757287137303399),\n",
       " ('June', 12.852597317107724),\n",
       " ('quiring', 12.852597317107724),\n",
       " ('Yorkshire', 12.957957832765551),\n",
       " ('July', 12.957957832765551),\n",
       " ('John', 13.0151162466055),\n",
       " ('Comm', 13.140279389559506),\n",
       " ('Third', 13.140279389559506),\n",
       " ('!importa', 13.209272261046456),\n",
       " ('qually', 13.283380233200178),\n",
       " ('July200', 13.283380233200178),\n",
       " ('judge', 13.363422940873715),\n",
       " ('quali', 13.54574449766767),\n",
       " ('quency', 13.54574449766767),\n",
       " ('View', 13.651105013325497),\n",
       " ('quarters', 13.651105013325497),\n",
       " ('Under', 13.651105013325497),\n",
       " ('value', 13.651105013325497),\n",
       " ('Comp', 13.902419441606401),\n",
       " ('quenc', 13.902419441606401),\n",
       " ('quences', 13.902419441606401),\n",
       " ('July2', 13.902419441606401),\n",
       " ('!import', 13.902419441606401),\n",
       " ('questi', 14.05657012143366),\n",
       " ('quen', 14.05657012143366),\n",
       " ('Thin', 14.05657012143366),\n",
       " ('quires', 14.238891678227615),\n",
       " ('qualityof', 14.238891678227615),\n",
       " ('+44(0)1', 14.238891678227615),\n",
       " ('Think', 14.238891678227615),\n",
       " ('West', 14.462035229541824),\n",
       " ('quiredto', 14.462035229541824),\n",
       " ('jecti', 14.462035229541824),\n",
       " ('judgment', 14.462035229541824),\n",
       " ('questing', 14.462035229541824),\n",
       " ('Questions', 14.462035229541824),\n",
       " ('qualifying', 14.462035229541824),\n",
       " ('qualitati', 14.462035229541824),\n",
       " ('qualit', 14.749717301993606),\n",
       " ('That', 14.749717301993606),\n",
       " ('judg', 14.749717301993606),\n",
       " ('+44(0)', 14.749717301993606),\n",
       " ('Cont', 14.749717301993606),\n",
       " ('qualityo', 14.749717301993606),\n",
       " ('qualifie', 14.749717301993606),\n",
       " ('Qual', 14.749717301993606),\n",
       " ('Visit', 14.749717301993606),\n",
       " ('Quali', 14.749717301993606),\n",
       " ('judic', 14.749717301993606),\n",
       " ('!impo', 14.749717301993606),\n",
       " ('Cons', 14.749717301993606),\n",
       " ('June2', 14.749717301993606),\n",
       " ('Communi', 14.749717301993606),\n",
       " ('March', 14.749717301993606),\n",
       " ('Quite', 14.749717301993606),\n",
       " ('Quitea', 14.749717301993606),\n",
       " ('Quick', 14.749717301993606),\n",
       " ('ings', 15.15518241010177),\n",
       " ('valu', 15.15518241010177),\n",
       " ('quan', 15.15518241010177),\n",
       " ('Yorks', 15.15518241010177),\n",
       " ('very', 15.15518241010177),\n",
       " ('quall', 15.15518241010177),\n",
       " ('quirem', 15.15518241010177),\n",
       " ('qualif', 15.15518241010177),\n",
       " ('qualifi', 15.15518241010177),\n",
       " ('justa', 15.15518241010177),\n",
       " ('quart', 15.15518241010177),\n",
       " ('Thir', 15.15518241010177),\n",
       " ('quiri', 15.15518241010177),\n",
       " ('Commu', 15.15518241010177),\n",
       " ('quarte', 15.15518241010177),\n",
       " ('!imp', 15.15518241010177),\n",
       " ('qualita', 15.15518241010177),\n",
       " ('Quest', 15.15518241010177),\n",
       " ('Qualit', 15.15518241010177),\n",
       " ('quari', 15.15518241010177),\n",
       " ('qualifies', 15.15518241010177),\n",
       " ('Compu', 15.15518241010177),\n",
       " ('questin', 15.15518241010177),\n",
       " ('Commi', 15.15518241010177),\n",
       " ('!impor', 15.15518241010177),\n",
       " ('quenci', 15.15518241010177),\n",
       " ('July20', 15.15518241010177),\n",
       " ('Unde', 15.15518241010177),\n",
       " ('Quit', 15.15518241010177),\n",
       " ('qualifyin', 15.15518241010177),\n",
       " ('quencing', 15.15518241010177),\n",
       " ('qualifyf', 15.15518241010177),\n",
       " ('Qualif', 15.15518241010177),\n",
       " ('valua', 15.15518241010177),\n",
       " ('questint', 15.15518241010177),\n",
       " ('valuati', 15.15518241010177),\n",
       " ('Company', 15.15518241010177),\n",
       " ('Commiss', 15.15518241010177),\n",
       " ('judice', 15.15518241010177),\n",
       " ('Unit', 15.15518241010177),\n",
       " ('Thirt', 15.15518241010177),\n",
       " ('Thes', 15.848329590661715),\n",
       " ('viti', 15.848329590661715),\n",
       " ('2002', 15.848329590661715),\n",
       " ('jects', 15.848329590661715),\n",
       " ('vers', 15.848329590661715),\n",
       " ('quiredt', 15.848329590661715),\n",
       " ('questio', 15.848329590661715),\n",
       " ('quit', 15.848329590661715),\n",
       " ('ingp', 15.848329590661715),\n",
       " ('%ofp', 15.848329590661715),\n",
       " ('Thai', 15.848329590661715),\n",
       " ('quireme', 15.848329590661715),\n",
       " ('quiremen', 15.848329590661715),\n",
       " ('Heal', 15.848329590661715),\n",
       " ('vati', 15.848329590661715),\n",
       " ('quiredtos', 15.848329590661715),\n",
       " ('mend', 15.848329590661715),\n",
       " ('veryp', 15.848329590661715),\n",
       " ('+44(', 15.848329590661715),\n",
       " ('+44(0', 15.848329590661715),\n",
       " ('join', 15.848329590661715),\n",
       " ('qualO', 15.848329590661715),\n",
       " ('Yorksh', 15.848329590661715),\n",
       " ('Yorkshi', 15.848329590661715),\n",
       " ('Quin', 15.848329590661715),\n",
       " ('quirie', 15.848329590661715),\n",
       " ('Compa', 15.848329590661715),\n",
       " ('qualific', 15.848329590661715),\n",
       " ('Ques', 15.848329590661715),\n",
       " ('Visi', 15.848329590661715),\n",
       " ('Quee', 15.848329590661715),\n",
       " ('qualifica', 15.848329590661715),\n",
       " ('Than', 15.848329590661715),\n",
       " ('qualificat', 15.848329590661715),\n",
       " ('qualificati', 15.848329590661715),\n",
       " ('judi', 15.848329590661715),\n",
       " ('qualificatio', 15.848329590661715),\n",
       " ('qualifieda', 15.848329590661715),\n",
       " ('quirementf', 15.848329590661715),\n",
       " ('quiries@', 15.848329590661715),\n",
       " ('quirin', 15.848329590661715),\n",
       " ('+441', 15.848329590661715),\n",
       " ('Yorkshir', 15.848329590661715),\n",
       " ('qualifier', 15.848329590661715),\n",
       " ('+44(0)19', 15.848329590661715),\n",
       " ('Questi', 15.848329590661715),\n",
       " ('quarterso', 15.848329590661715),\n",
       " ('Questio', 15.848329590661715),\n",
       " ('qualiti', 15.848329590661715),\n",
       " ('Visito', 15.848329590661715),\n",
       " ('Viet', 15.848329590661715),\n",
       " ('qualitie', 15.848329590661715),\n",
       " ('Just', 15.848329590661715),\n",
       " ('Junc', 15.848329590661715),\n",
       " ('Commun', 15.848329590661715),\n",
       " ('June1', 15.848329590661715),\n",
       " ('Jul3', 15.848329590661715),\n",
       " ('quiries@n', 15.848329590661715),\n",
       " ('Views', 15.848329590661715),\n",
       " ('qualificationsa', 15.848329590661715),\n",
       " ('judici', 15.848329590661715),\n",
       " ('judgm', 15.848329590661715),\n",
       " ('judgme', 15.848329590661715),\n",
       " ('Marc', 15.848329590661715),\n",
       " ('judgeh', 15.848329590661715),\n",
       " ('Johns', 15.848329590661715),\n",
       " ('quentl', 15.848329590661715),\n",
       " ('judgmen', 15.848329590661715),\n",
       " ('judged', 15.848329590661715),\n",
       " ('Communic', 15.848329590661715),\n",
       " ('judicia', 15.848329590661715),\n",
       " ('qualityofl', 15.848329590661715),\n",
       " ('qualificationsan', 15.848329590661715),\n",
       " ('qualifyi', 15.848329590661715),\n",
       " ('judges', 15.848329590661715),\n",
       " ('quare,', 15.848329590661715),\n",
       " ('questionsa', 15.848329590661715),\n",
       " ('Commis', 15.848329590661715),\n",
       " ('quartero', 15.848329590661715),\n",
       " ('judicial', 15.848329590661715),\n",
       " ('June20', 15.848329590661715),\n",
       " ('quirementfo', 15.848329590661715),\n",
       " ('Thisi', 15.848329590661715),\n",
       " ('Compan', 15.848329590661715),\n",
       " ('Commit', 15.848329590661715),\n",
       " ('Contr', 15.848329590661715),\n",
       " ('Queens', 15.848329590661715),\n",
       " ('Const', 15.848329590661715),\n",
       " ('June200', 15.848329590661715),\n",
       " ('quencin', 15.848329590661715),\n",
       " ('Conse', 15.848329590661715),\n",
       " ('Qualify', 15.848329590661715),\n",
       " ('judgi', 15.848329590661715),\n",
       " ('qualitat', 15.848329590661715),\n",
       " ('Quic', 15.848329590661715),\n",
       " ('qualifiesf', 15.848329590661715),\n",
       " ('quartz', 15.848329590661715),\n",
       " ('judica', 15.848329590661715),\n",
       " ('valuat', 15.848329590661715),\n",
       " ('quariu', 15.848329590661715),\n",
       " ('qualifyfo', 15.848329590661715),\n",
       " ('qualle', 15.848329590661715),\n",
       " ('quencie', 15.848329590661715),\n",
       " ('quencies', 15.848329590661715),\n",
       " ('Qualifyi', 15.848329590661715),\n",
       " ('Qualita', 15.848329590661715),\n",
       " ('Compl', 15.848329590661715),\n",
       " ('Commissi', 15.848329590661715),\n",
       " ('valuatin', 15.848329590661715),\n",
       " ('Qualifi', 15.848329590661715),\n",
       " ('qualifiesa', 15.848329590661715),\n",
       " ('quarterof', 15.848329590661715),\n",
       " ('Unite', 15.848329590661715),\n",
       " ('July2003', 15.848329590661715),\n",
       " ('valuatio', 15.848329590661715),\n",
       " ('Committ', 15.848329590661715),\n",
       " ('Qualifyin', 15.848329590661715),\n",
       " ('quirementt', 15.848329590661715),\n",
       " ('quiremo', 15.848329590661715),\n",
       " ('qualifiesfo', 15.848329590661715),\n",
       " ('Questionsa', 15.848329590661715),\n",
       " ('Committe', 15.848329590661715),\n",
       " ('Mark', 15.848329590661715),\n",
       " ('Commissio', 15.848329590661715),\n",
       " ('Qualifying', 15.848329590661715),\n",
       " ('July2006', 15.848329590661715)]"
      ]
     },
     "execution_count": 18,
     "metadata": {},
     "output_type": "execute_result"
    }
   ],
   "source": [
    "#sorted({ k : sum(v.values())  for k, v  in mdl_runner.seq_state.sequences.items() if len(k) >= 3}.items(), key = lambda x : x[1], reverse = True)\n",
    "sorted({ k: v for k, v in mdl_runner.seq_state.sequence_counts.items() if len(k) > 3}.items(), key = lambda x : x[1])"
   ]
  },
  {
   "cell_type": "markdown",
   "metadata": {},
   "source": [
    "### "
   ]
  },
  {
   "cell_type": "code",
   "execution_count": null,
   "metadata": {},
   "outputs": [],
   "source": []
  }
 ],
 "metadata": {
  "kernelspec": {
   "display_name": "Python 3",
   "language": "python",
   "name": "python3"
  },
  "language_info": {
   "codemirror_mode": {
    "name": "ipython",
    "version": 3
   },
   "file_extension": ".py",
   "mimetype": "text/x-python",
   "name": "python",
   "nbconvert_exporter": "python",
   "pygments_lexer": "ipython3",
   "version": "3.8.2"
  }
 },
 "nbformat": 4,
 "nbformat_minor": 4
}
