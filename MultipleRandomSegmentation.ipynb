{
 "cells": [
  {
   "cell_type": "code",
   "execution_count": 46,
   "metadata": {},
   "outputs": [
    {
     "name": "stdout",
     "output_type": "stream",
     "text": [
      "The line_profiler extension is already loaded. To reload it, use:\n",
      "  %reload_ext line_profiler\n"
     ]
    }
   ],
   "source": [
    "import pandas as pd\n",
    "import numpy\n",
    "from tqdm.notebook import trange, tqdm\n",
    "import random\n",
    "import math\n",
    "import numpy\n",
    "from dataset import Dataset\n",
    "import pickle\n",
    "import os\n",
    "%load_ext line_profiler"
   ]
  },
  {
   "cell_type": "code",
   "execution_count": 31,
   "metadata": {},
   "outputs": [
    {
     "name": "stdout",
     "output_type": "stream",
     "text": [
      "Index file not found, creating now....\n",
      "29.473777770996094 Seconds\n",
      "Index file found.\n",
      "Index file found.\n",
      "Index file found.\n"
     ]
    }
   ],
   "source": [
    "data_file = 'data/ukwac-10L.txt'\n",
    "dataset = Dataset(data_file)\n",
    "training, validation, testing = dataset.partition((0.7, 0.1, 0.2), shuffle=True)"
   ]
  },
  {
   "cell_type": "code",
   "execution_count": 32,
   "metadata": {},
   "outputs": [],
   "source": [
    "class SequenceState:\n",
    "    def __init__(self):\n",
    "        self.sequences = {}\n",
    "        self.sequence_counts = {}\n",
    "        self.num_chars = 0\n",
    "    \n",
    "    def normalize_probs(self):\n",
    "        N = sum(self.sequence_counts.values())\n",
    "        self.sequence_counts = {k:-math.log(v/N) for k, v in self.sequence_counts.items()}\n",
    "        sq = {}\n",
    "        for k, v in self.sequences.items():\n",
    "            T = sum(v.values())\n",
    "            sq[k] = {x:-math.log(y/T) for x,y in v.items()}\n",
    "        self.sequences = sq\n",
    "    \n",
    "    def add_split_to_sequences(self, split):\n",
    "        for p, c in zip(split, split[1:]):\n",
    "            #print(p , c)\n",
    "            try:\n",
    "                self.sequences[p][c] += 1\n",
    "                self.sequence_counts[p] += 1\n",
    "            except:\n",
    "                #print(f\"{c} not in {p}\")\n",
    "                try:\n",
    "                    self.sequences[p][c] = 1\n",
    "                    self.sequence_counts[p] += 1\n",
    "                except:\n",
    "                 #   print(f\"{p} not exists\")\n",
    "                    self.sequences[p] = {c: 1}\n",
    "                    self.sequence_counts[p] = 1\n",
    "            self.num_chars += 1\n",
    "    "
   ]
  },
  {
   "cell_type": "code",
   "execution_count": 62,
   "metadata": {},
   "outputs": [],
   "source": [
    "from datetime import datetime\n",
    "timestamp_now = lambda : str(int(datetime.now().timestamp()))\n",
    "class Model:\n",
    "    def __init__(self, models_dir, model_name = timestamp_now()):\n",
    "        if not os.path.exists(models_dir):\n",
    "            raise Exception(\"Models Directory does not exist\")\n",
    "            \n",
    "        self.model_name = model_name\n",
    "        self.model_path = os.path.join(models_dir, model_name)\n",
    "        \n",
    "        \n",
    "        self.components = {}\n",
    "        \n",
    "        if self.model_dir_exists():\n",
    "            self.load_component_index()\n",
    "        else:\n",
    "            self.create_model_dir()\n",
    "            \n",
    "    def model_dir_exists(self):\n",
    "        if not os.path.exists(self.model_path):\n",
    "            return False\n",
    "        return True\n",
    "    \n",
    "    def create_model_dir(self):\n",
    "        if not os.path.exists(self.model_path):\n",
    "            os.mkdir(self.model_path)\n",
    "            \n",
    "    def load_component_index(self):\n",
    "        for file_name in os.listdir(self.model_path):\n",
    "            component_name = '.'.join(file_name.split('.')[:-1])\n",
    "            self.components[component_name] = (os.path.join(self.model_path, file_name), False)\n",
    "                     \n",
    "    \n",
    "    def save(self, item, value):\n",
    "        self.components[item] = (value, True)\n",
    "        file_name = os.path.join(self.model_path, item + '.pkl')\n",
    "        with open(file_name, 'wb') as f:\n",
    "            pickle.dump(value, f)\n",
    "        \n",
    "    \n",
    "    def load(self, item):\n",
    "        if item in self.components:\n",
    "            loaded = self.components[item][1]\n",
    "            if not loaded:\n",
    "                file_name = self.components[item][0]\n",
    "                with open(file_name,'rb') as f:\n",
    "                    self.components[item] = (pickle.load(f), True)\n",
    "            return self.components[item][0]\n",
    "        else:\n",
    "            raise Exception(f\"No Such Component={item} in the Model.\")\n",
    "        \n",
    "        #return self.components[item]\n",
    "    \n",
    "    "
   ]
  },
  {
   "cell_type": "code",
   "execution_count": 57,
   "metadata": {},
   "outputs": [],
   "source": [
    "seg_model = Model('models')"
   ]
  },
  {
   "cell_type": "code",
   "execution_count": 58,
   "metadata": {},
   "outputs": [],
   "source": [
    "seg_model.save('some_numbers', list(range(10)))\n",
    "seg_model.save('my_details', {'name':'Ganesh', 'age':29})"
   ]
  },
  {
   "cell_type": "code",
   "execution_count": 63,
   "metadata": {},
   "outputs": [],
   "source": [
    "seg_model = Model('models', model_name='1594058166')"
   ]
  },
  {
   "cell_type": "code",
   "execution_count": 65,
   "metadata": {},
   "outputs": [
    {
     "data": {
      "text/plain": [
       "[0, 1, 2, 3, 4, 5, 6, 7, 8, 9]"
      ]
     },
     "execution_count": 65,
     "metadata": {},
     "output_type": "execute_result"
    }
   ],
   "source": [
    "seg_model.load('some_numbers')"
   ]
  },
  {
   "cell_type": "code",
   "execution_count": 33,
   "metadata": {},
   "outputs": [],
   "source": [
    "def should_join(a, b, seq_state, theta=0.1):\n",
    "    try:\n",
    "        num_chars = seq_state.sequence_counts[a]\n",
    "        total_chars = seq_state.num_chars\n",
    "        \n",
    "        try:\n",
    "            prob_ab = seq_state.sequences[a][b] / num_chars\n",
    "        except:\n",
    "            prob_ab = seq_state.sequence_counts[a] / total_chars\n",
    "        \n",
    "        \n",
    "        if prob_ab > theta:\n",
    "            return True\n",
    "    except Exception as e:\n",
    "        #print(a, b)\n",
    "        pass\n",
    "    return False\n"
   ]
  },
  {
   "cell_type": "code",
   "execution_count": 67,
   "metadata": {},
   "outputs": [],
   "source": [
    "class MDLRunner:\n",
    "    def __init__(self, training_dataset, val_dataset, model):\n",
    "        self.theta = 0.1\n",
    "        self.inc = 0.05\n",
    "        self.seq_state = SequenceState()\n",
    "        self.training_dataset = training_dataset\n",
    "        self.val_dataset = val_dataset\n",
    "        self.scores = {}\n",
    "        self.model = model\n",
    "    \n",
    "    def evaluate(self, eval_file):\n",
    "        pass\n",
    "\n",
    "    def run_sentence(self, line):\n",
    "        stack = [line[0]]\n",
    "        for i in range(1, len(line)):\n",
    "            p,c = stack[-1], line[i]\n",
    "            s = should_join(p, c, self.seq_state, self.theta)         \n",
    "            if s:\n",
    "                stack[-1] += c\n",
    "            else:\n",
    "                stack.append(c)\n",
    "        return stack\n",
    "\n",
    "    def run(self, times):\n",
    "        for i in range(times):\n",
    "            self.do_reset()\n",
    "            print(f\"Running with theta={self.theta}\")\n",
    "            self.run_sequences()\n",
    "            self.seq_state.normalize_probs()\n",
    "            mdl_cost = self.get_mdl_cost()\n",
    "            print(f\"MDL cost : {mdl_cost}\")\n",
    "            self.scores[self.theta] = mdl_cost[-1]\n",
    "            self.model.save(f'mdl_{self.theta}', [self.seq_state, mdl_cost])\n",
    "            self.theta += self.inc\n",
    "            \n",
    "                \n",
    "    def do_reset(self):\n",
    "        self.seq_state = SequenceState()\n",
    "        \n",
    "        \n",
    "    def run_sequences(self):\n",
    "        \n",
    "        for line in tqdm(self.training_dataset, total=len(self.training_dataset.rows)):\n",
    "            line = line.strip().replace(' ', '@')\n",
    "            \n",
    "            if len(line) > 0:\n",
    "                split = self.run_sentence(line)                \n",
    "                self.seq_state.add_split_to_sequences(split)\n",
    "    \n",
    "    \n",
    "    def eval_sequence(self, seq):\n",
    "        tot_prob = 0\n",
    "        if seq[0] in self.seq_state.sequence_counts:\n",
    "            tot_prob = self.seq_state.sequence_counts[seq[0]]        \n",
    "        #print(seq[0], tot_prob)\n",
    "        for i in range(1, len(seq)):\n",
    "            \n",
    "            if (seq[i-1] in self.seq_state.sequences) and (seq[i] in self.seq_state.sequences[seq[i-1]]):\n",
    "                tot_prob += self.seq_state.sequences[seq[i-1]][seq[i]]\n",
    "                #print(seq[i-1], seq[i],tot_prob)\n",
    "        return tot_prob\n",
    "    \n",
    "    def eval_sequences(self, eval_dataset):\n",
    "        tot_prob = 0\n",
    "        total = len(eval_dataset.rows)\n",
    "        for line in tqdm(eval_dataset, total=total):\n",
    "            line = line.strip().replace(' ', '@')\n",
    "\n",
    "            if len(line) > 0:\n",
    "                split = self.run_sentence(line)\n",
    "                #print(line, split)\n",
    "                \n",
    "                tot_prob += self.eval_sequence(list(split))\n",
    "        return tot_prob / total\n",
    "    \n",
    "    def best_model(self):\n",
    "        sorted_scores = sorted(self.scores.items(), key = lambda x : x[1])\n",
    "        self.best = (sorted_scores[0])\n",
    "        return self.best\n",
    "    \n",
    "    def get_mdl_cost(self):\n",
    "        prob = self.eval_sequences(self.val_dataset)\n",
    "        s = [len(v) for k, v in self.seq_state.sequences.items()]\n",
    "        s = sum(s)\n",
    "        return prob, s, prob"
   ]
  },
  {
   "cell_type": "code",
   "execution_count": 68,
   "metadata": {},
   "outputs": [],
   "source": [
    "mdl_model = Model('models', 'mdl_model_eng_ukwac_10L')"
   ]
  },
  {
   "cell_type": "code",
   "execution_count": null,
   "metadata": {},
   "outputs": [
    {
     "name": "stdout",
     "output_type": "stream",
     "text": [
      "Running with theta=0.1\n"
     ]
    },
    {
     "data": {
      "application/vnd.jupyter.widget-view+json": {
       "model_id": "6c59ef57ed7e4a94a4c6e7a61301926d",
       "version_major": 2,
       "version_minor": 0
      },
      "text/plain": [
       "HBox(children=(FloatProgress(value=0.0, max=700000.0), HTML(value='')))"
      ]
     },
     "metadata": {},
     "output_type": "display_data"
    },
    {
     "name": "stdout",
     "output_type": "stream",
     "text": [
      "\n"
     ]
    },
    {
     "data": {
      "application/vnd.jupyter.widget-view+json": {
       "model_id": "656d799b9d1344009538513b10716c24",
       "version_major": 2,
       "version_minor": 0
      },
      "text/plain": [
       "HBox(children=(FloatProgress(value=0.0, max=100000.0), HTML(value='')))"
      ]
     },
     "metadata": {},
     "output_type": "display_data"
    },
    {
     "name": "stdout",
     "output_type": "stream",
     "text": [
      "\n",
      "MDL cost : (7.012857343147176, 567229, 7.012857343147176)\n",
      "Running with theta=0.15000000000000002\n"
     ]
    },
    {
     "data": {
      "application/vnd.jupyter.widget-view+json": {
       "model_id": "6e9dce39357f4fed905afd2ff460dc21",
       "version_major": 2,
       "version_minor": 0
      },
      "text/plain": [
       "HBox(children=(FloatProgress(value=0.0, max=700000.0), HTML(value='')))"
      ]
     },
     "metadata": {},
     "output_type": "display_data"
    },
    {
     "name": "stdout",
     "output_type": "stream",
     "text": [
      "\n"
     ]
    },
    {
     "data": {
      "application/vnd.jupyter.widget-view+json": {
       "model_id": "fbc728bdbd2f4c0ba998595dd3b5776f",
       "version_major": 2,
       "version_minor": 0
      },
      "text/plain": [
       "HBox(children=(FloatProgress(value=0.0, max=100000.0), HTML(value='')))"
      ]
     },
     "metadata": {},
     "output_type": "display_data"
    },
    {
     "name": "stdout",
     "output_type": "stream",
     "text": [
      "\n",
      "MDL cost : (5.937478417456796, 157143, 5.937478417456796)\n",
      "Running with theta=0.2\n"
     ]
    },
    {
     "data": {
      "application/vnd.jupyter.widget-view+json": {
       "model_id": "01b9b4a8b1844ea898761045ab40f8fc",
       "version_major": 2,
       "version_minor": 0
      },
      "text/plain": [
       "HBox(children=(FloatProgress(value=0.0, max=700000.0), HTML(value='')))"
      ]
     },
     "metadata": {},
     "output_type": "display_data"
    },
    {
     "name": "stdout",
     "output_type": "stream",
     "text": [
      "\n"
     ]
    },
    {
     "data": {
      "application/vnd.jupyter.widget-view+json": {
       "model_id": "26afe8b6e1c4466ebb58f5a3977f6471",
       "version_major": 2,
       "version_minor": 0
      },
      "text/plain": [
       "HBox(children=(FloatProgress(value=0.0, max=100000.0), HTML(value='')))"
      ]
     },
     "metadata": {},
     "output_type": "display_data"
    },
    {
     "name": "stdout",
     "output_type": "stream",
     "text": [
      "\n",
      "MDL cost : (5.8212130376330355, 56621, 5.8212130376330355)\n",
      "Running with theta=0.25\n"
     ]
    },
    {
     "data": {
      "application/vnd.jupyter.widget-view+json": {
       "model_id": "0a369969d824495c8637c033b53832d6",
       "version_major": 2,
       "version_minor": 0
      },
      "text/plain": [
       "HBox(children=(FloatProgress(value=0.0, max=700000.0), HTML(value='')))"
      ]
     },
     "metadata": {},
     "output_type": "display_data"
    }
   ],
   "source": [
    "mdl_runner = MDLRunner(training, validation, mdl_model)\n",
    "mdl_runner.inc = 0.05\n",
    "mdl_runner.run(times=5)\n",
    "#mdl_runner.best_model()"
   ]
  },
  {
   "cell_type": "code",
   "execution_count": 36,
   "metadata": {},
   "outputs": [
    {
     "name": "stdout",
     "output_type": "stream",
     "text": [
      "inees will usually be at E grade or above - A medical prescriber willing to contribute to and supervise the nurse 's 12/13 day\n",
      "Running with theta=0.25 which has an eval_score=5.241017240638504\n",
      "Running with theta=0.25\n"
     ]
    },
    {
     "data": {
      "application/vnd.jupyter.widget-view+json": {
       "model_id": "9a586e585cdf4985b092f71f4058e348",
       "version_major": 2,
       "version_minor": 0
      },
      "text/plain": [
       "HBox(children=(FloatProgress(value=0.0, max=700000.0), HTML(value='')))"
      ]
     },
     "metadata": {},
     "output_type": "display_data"
    },
    {
     "name": "stdout",
     "output_type": "stream",
     "text": [
      "\n"
     ]
    },
    {
     "data": {
      "application/vnd.jupyter.widget-view+json": {
       "model_id": "31258cb2b080499c92a3109db5285dab",
       "version_major": 2,
       "version_minor": 0
      },
      "text/plain": [
       "HBox(children=(FloatProgress(value=0.0, max=100000.0), HTML(value='')))"
      ]
     },
     "metadata": {},
     "output_type": "display_data"
    },
    {
     "name": "stdout",
     "output_type": "stream",
     "text": [
      "\n",
      "MDL cost : (5.241017240638504, 29659, 5.241017240638504)\n",
      "['ine', 'es', ' ', 'wi', 'll', ' ', 'us', 'ua', 'll', 'y', ' ', 'be', ' ', 'at', ' ', 'E', ' ', 'gr', 'ad', 'e', ' ', 'or', ' ', 'ab', 'ov', 'e', ' ', '-', ' ', 'A', ' ', 'me', 'di', 'ca', 'l', ' ', 'pr', 'es', 'cr', 'ib', 'er', ' ', 'wi', 'll', 'in', 'g', ' ', 'to', ' ', 'co', 'nt', 'ri', 'bu', 'te', ' ', 'to', ' ', 'an', 'd', ' ', 'su', 'pe', 'rv', 'is', 'e', ' ', 'th', 'e', ' ', 'nu', 'rs', 'e', ' ', \"'\", 's', ' ', '12', '/1', '3', ' ', 'da', 'y']\n",
      "Running with theta=0.3 which has an eval_score=5.61046574164318\n",
      "Running with theta=0.3\n"
     ]
    },
    {
     "data": {
      "application/vnd.jupyter.widget-view+json": {
       "model_id": "2feaa47625654f97aebf18407351dfcb",
       "version_major": 2,
       "version_minor": 0
      },
      "text/plain": [
       "HBox(children=(FloatProgress(value=0.0, max=700000.0), HTML(value='')))"
      ]
     },
     "metadata": {},
     "output_type": "display_data"
    },
    {
     "name": "stdout",
     "output_type": "stream",
     "text": [
      "\n"
     ]
    },
    {
     "data": {
      "application/vnd.jupyter.widget-view+json": {
       "model_id": "15eb6d3db8954af8a4e9f7312e63fbae",
       "version_major": 2,
       "version_minor": 0
      },
      "text/plain": [
       "HBox(children=(FloatProgress(value=0.0, max=100000.0), HTML(value='')))"
      ]
     },
     "metadata": {},
     "output_type": "display_data"
    },
    {
     "name": "stdout",
     "output_type": "stream",
     "text": [
      "\n",
      "MDL cost : (5.61046574164318, 21235, 5.61046574164318)\n",
      "['in', 'ee', 's', ' ', 'wi', 'll', ' ', 'us', 'ua', 'll', 'y', ' ', 'b', 'e', ' ', 'at', ' ', 'E', ' ', 'gr', 'ad', 'e', ' ', 'or', ' ', 'ab', 'ov', 'e', ' ', '-', ' ', 'A', ' ', 'm', 'ed', 'ic', 'al', ' ', 'pr', 'es', 'cr', 'ib', 'er', ' ', 'wi', 'll', 'in', 'g', ' ', 'to', ' ', 'co', 'nt', 'ri', 'bu', 'te', ' ', 'to', ' ', 'an', 'd', ' ', 'su', 'pe', 'rv', 'is', 'e', ' ', 'th', 'e', ' ', 'nu', 'rs', 'e', ' ', \"'\", 's', ' ', '12', '/1', '3', ' ', 'da', 'y']\n"
     ]
    }
   ],
   "source": [
    "line = testing[0]\n",
    "print(line)\n",
    "sorted_scores = sorted(mdl_runner.scores.items(), key = lambda x : x[1])\n",
    "for theta, eval_score in sorted_scores[:2]:\n",
    "    print(f\"Running with theta={theta} which has an eval_score={eval_score}\")\n",
    "    mdl_runner.theta = theta\n",
    "    mdl_runner.run(times=1)\n",
    "    print(mdl_runner.run_sentence(line))"
   ]
  },
  {
   "cell_type": "code",
   "execution_count": 13,
   "metadata": {},
   "outputs": [
    {
     "name": "stdout",
     "output_type": "stream",
     "text": [
      "16.50114689111918 0\n"
     ]
    }
   ],
   "source": [
    "a = mdl_runner.eval_sequence(list('winnAru'))\n",
    "b = mdl_runner.eval_sequence(['winnAru'])\n",
    "print(a,b)\n",
    "#mdl_runner.seq_state.sequences['c']"
   ]
  },
  {
   "cell_type": "code",
   "execution_count": 15,
   "metadata": {},
   "outputs": [
    {
     "data": {
      "text/plain": [
       "6.907755278982137"
      ]
     },
     "execution_count": 15,
     "metadata": {},
     "output_type": "execute_result"
    }
   ],
   "source": [
    "-math.log(0.001)"
   ]
  },
  {
   "cell_type": "code",
   "execution_count": 30,
   "metadata": {},
   "outputs": [
    {
     "data": {
      "text/plain": [
       "[(',@', 4.9351380080344205),\n",
       " ('y@', 5.08415547369465),\n",
       " ('.\\n', 5.395311980039943),\n",
       " ('d@', 5.614434038691709),\n",
       " ('ve', 5.958959565986072),\n",
       " (')@', 6.73172735708251),\n",
       " ('(@', 6.8000202564755465),\n",
       " (':@', 7.001847132816082),\n",
       " ('\"@', 7.070991507977287),\n",
       " ('qu', 7.151686785430531),\n",
       " (';@', 7.914844131563125),\n",
       " ('?\\n', 8.004153561564205),\n",
       " ('Th', 8.157555458129222),\n",
       " ('The@', 8.304434734612006),\n",
       " ('!\\n', 8.321484327938116),\n",
       " ('The', 8.825571973963589),\n",
       " ('[@', 9.02259967814724),\n",
       " (']@', 9.045072533999297),\n",
       " ('|@', 9.104050784556232),\n",
       " ('%@', 9.261421042180679),\n",
       " ('&@', 9.424072764985866),\n",
       " ('6@', 10.60140062111945),\n",
       " ('__', 10.632037590581339),\n",
       " ('Qu', 10.696279859309692),\n",
       " ('You', 10.9064744362831),\n",
       " ('$@', 11.024257471939483),\n",
       " ('`@', 11.150298192834848),\n",
       " ('**', 11.180603542330177),\n",
       " ('*@', 11.219824255483458),\n",
       " ('”@', 11.219824255483458),\n",
       " ('5@', 11.285964057988004),\n",
       " ('}@', 11.384698898673692),\n",
       " ('–@', 11.4330174759445),\n",
       " ('You@', 11.442967806797668),\n",
       " ('’s@', 11.59379069653225),\n",
       " ('{@', 11.678690140318738),\n",
       " ('Yo', 11.889254909426088),\n",
       " ('+@', 12.176936981877867),\n",
       " ('•@', 13.003615555062336),\n",
       " (\"'s@\", 13.052405719231768),\n",
       " ('he', 13.275549270545978),\n",
       " ('York', 13.85091341544954),\n",
       " ('…@', 13.85091341544954),\n",
       " ('4@', 14.256378523557704),\n",
       " ('—@', 14.256378523557704),\n",
       " ('I@', 14.438700080351659),\n",
       " ('Qua', 14.438700080351659),\n",
       " ('g@', 14.66184363166587),\n",
       " ('We@', 14.66184363166587),\n",
       " ('=@', 14.66184363166587),\n",
       " ('k@', 14.949525704117649),\n",
       " ('8@', 14.949525704117649),\n",
       " ('ve@', 14.949525704117649),\n",
       " ('q@', 14.949525704117649),\n",
       " ('Thi', 14.949525704117649),\n",
       " ('York@', 14.949525704117649),\n",
       " ('vi', 15.354990812225815),\n",
       " ('Wh', 15.354990812225815),\n",
       " ('90', 15.354990812225815),\n",
       " ('he@', 15.354990812225815),\n",
       " ('Ro', 15.354990812225815),\n",
       " ('je', 15.354990812225815),\n",
       " ('This@', 15.354990812225815),\n",
       " ('+4', 15.354990812225815),\n",
       " ('+44@', 15.354990812225815),\n",
       " ('Que', 15.354990812225815),\n",
       " ('–@w', 15.354990812225815),\n",
       " ('Quali', 15.354990812225815),\n",
       " ('We', 16.048137992785758),\n",
       " ('wi', 16.048137992785758),\n",
       " (\"'s\", 16.048137992785758),\n",
       " (',@b', 16.048137992785758),\n",
       " ('Br', 16.048137992785758),\n",
       " ('He', 16.048137992785758),\n",
       " ('De', 16.048137992785758),\n",
       " ('Pr', 16.048137992785758),\n",
       " ('Ba', 16.048137992785758),\n",
       " ('Co', 16.048137992785758),\n",
       " ('que', 16.048137992785758),\n",
       " ('71', 16.048137992785758),\n",
       " ('Du', 16.048137992785758),\n",
       " ('ze', 16.048137992785758),\n",
       " ('za', 16.048137992785758),\n",
       " ('This', 16.048137992785758),\n",
       " ('ju', 16.048137992785758),\n",
       " ('X@', 16.048137992785758),\n",
       " ('[@t', 16.048137992785758),\n",
       " ('[@s', 16.048137992785758),\n",
       " (').', 16.048137992785758),\n",
       " (').@', 16.048137992785758),\n",
       " ('’r', 16.048137992785758),\n",
       " ('’re', 16.048137992785758),\n",
       " ('“W', 16.048137992785758),\n",
       " ('’s', 16.048137992785758),\n",
       " ('Za', 16.048137992785758),\n",
       " ('+44', 16.048137992785758),\n",
       " ('Your', 16.048137992785758),\n",
       " ('Yor', 16.048137992785758),\n",
       " ('Qual', 16.048137992785758),\n",
       " ('Quee', 16.048137992785758),\n",
       " ('**@', 16.048137992785758),\n",
       " ('Queen', 16.048137992785758),\n",
       " ('^@', 16.048137992785758),\n",
       " ('{@c', 16.048137992785758),\n",
       " ('^@b', 16.048137992785758),\n",
       " ('~@', 16.048137992785758),\n",
       " ('Qualif', 16.048137992785758),\n",
       " ('Qualify', 16.048137992785758),\n",
       " ('™@', 16.048137992785758)]"
      ]
     },
     "execution_count": 30,
     "metadata": {},
     "output_type": "execute_result"
    }
   ],
   "source": [
    "#sorted({ k : sum(v.values())  for k, v  in mdl_runner.seq_state.sequences.items() if len(k) >= 3}.items(), key = lambda x : x[1], reverse = True)\n",
    "sorted({ k: v for k, v in mdl_runner.seq_state.sequence_counts.items() if len(k) > 1}.items(), key = lambda x : x[1])"
   ]
  },
  {
   "cell_type": "code",
   "execution_count": null,
   "metadata": {},
   "outputs": [],
   "source": []
  },
  {
   "cell_type": "code",
   "execution_count": null,
   "metadata": {},
   "outputs": [],
   "source": []
  }
 ],
 "metadata": {
  "kernelspec": {
   "display_name": "Python 3",
   "language": "python",
   "name": "python3"
  },
  "language_info": {
   "codemirror_mode": {
    "name": "ipython",
    "version": 3
   },
   "file_extension": ".py",
   "mimetype": "text/x-python",
   "name": "python",
   "nbconvert_exporter": "python",
   "pygments_lexer": "ipython3",
   "version": "3.6.7"
  }
 },
 "nbformat": 4,
 "nbformat_minor": 4
}
