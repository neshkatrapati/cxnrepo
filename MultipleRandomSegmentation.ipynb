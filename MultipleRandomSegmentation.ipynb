{
 "cells": [
  {
   "cell_type": "code",
   "execution_count": 9,
   "metadata": {},
   "outputs": [],
   "source": [
    "import pandas as pd\n",
    "import numpy\n",
    "from tqdm.notebook import trange, tqdm\n",
    "import random\n",
    "import math"
   ]
  },
  {
   "cell_type": "code",
   "execution_count": 2,
   "metadata": {},
   "outputs": [],
   "source": [
    "data_file = 'data/wikitext-2/train.txt'"
   ]
  },
  {
   "cell_type": "code",
   "execution_count": 17,
   "metadata": {},
   "outputs": [],
   "source": [
    "def get_char_ngrams(data_file):\n",
    "    with open(data_file) as f:\n",
    "        unigrams = {}\n",
    "        bigrams = {}\n",
    "        for line in f:\n",
    "            line = line.strip()\n",
    "            for l in range(1,len(line)):\n",
    "                p = line[l-1]\n",
    "                c = line[l]\n",
    "                if p not in bigrams:\n",
    "                    bigrams[p] = {}\n",
    "                if c not in bigrams[p]:\n",
    "                    bigrams[p][c] = 0\n",
    "                bigrams[p][c] += 1\n",
    "        return bigrams\n",
    "    \n",
    "def convert_to_probs(char_bigrams):\n",
    "    bigram_probs = {}\n",
    "    for gram, gram_list in char_bigrams.items():\n",
    "        total_mass = sum(gram_list.values())\n",
    "        bigram_probs[gram] = {}\n",
    "        for g in gram_list:\n",
    "            bigram_probs[gram][g] = round(gram_list[g] / total_mass, 3)\n",
    "    return bigram_probs"
   ]
  },
  {
   "cell_type": "code",
   "execution_count": 14,
   "metadata": {},
   "outputs": [],
   "source": [
    "char_bigrams = get_char_ngrams(data_file)"
   ]
  },
  {
   "cell_type": "code",
   "execution_count": 19,
   "metadata": {},
   "outputs": [],
   "source": [
    "bigram_probs = convert_to_probs(char_bigrams)\n",
    "#bigram_probs"
   ]
  },
  {
   "cell_type": "code",
   "execution_count": 20,
   "metadata": {},
   "outputs": [],
   "source": [
    "def should_join(a, b, char_bigrams):\n",
    "    if (a in char_bigrams) and (b in char_bigrams[a]):\n",
    "        theta = random.random()\n",
    "        alpha = char_bigrams[a][b]\n",
    "        if theta < alpha:\n",
    "            return True\n",
    "        return False\n",
    "    return False"
   ]
  },
  {
   "cell_type": "code",
   "execution_count": 26,
   "metadata": {},
   "outputs": [
    {
     "data": {
      "text/plain": [
       "14"
      ]
     },
     "execution_count": 26,
     "metadata": {},
     "output_type": "execute_result"
    }
   ],
   "source": [
    "sum([should_join('a', 'p', bigram_probs) for i in range(1000)])"
   ]
  },
  {
   "cell_type": "code",
   "execution_count": null,
   "metadata": {},
   "outputs": [],
   "source": []
  }
 ],
 "metadata": {
  "kernelspec": {
   "display_name": "Python 3",
   "language": "python",
   "name": "python3"
  },
  "language_info": {
   "codemirror_mode": {
    "name": "ipython",
    "version": 3
   },
   "file_extension": ".py",
   "mimetype": "text/x-python",
   "name": "python",
   "nbconvert_exporter": "python",
   "pygments_lexer": "ipython3",
   "version": "3.6.7"
  }
 },
 "nbformat": 4,
 "nbformat_minor": 4
}
