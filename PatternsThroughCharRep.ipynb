{
 "cells": [
  {
   "cell_type": "code",
   "execution_count": 1,
   "metadata": {},
   "outputs": [],
   "source": [
    "import pandas as pd\n",
    "import numpy\n",
    "from tqdm.notebook import trange, tqdm"
   ]
  },
  {
   "cell_type": "code",
   "execution_count": 2,
   "metadata": {},
   "outputs": [],
   "source": [
    "data_file = 'data/wikitext-2/train.txt'"
   ]
  },
  {
   "cell_type": "code",
   "execution_count": 59,
   "metadata": {},
   "outputs": [],
   "source": [
    "window_size = 7\n",
    "\n",
    "def get_tokens(data_file):\n",
    "    with open(data_file) as d:\n",
    "        for line in d:\n",
    "            line = line.strip()\n",
    "            if len(line) > 0:\n",
    "                l = []\n",
    "                for split_at in range(0, len(line), window_size):\n",
    "                    l.append(line[split_at:split_at+window_size])\n",
    "                yield l\n",
    "\n",
    "                \n",
    "def get_charmap(data_file):\n",
    "    charmap = {}\n",
    "    with open(data_file) as d:\n",
    "        for line in d:\n",
    "            chars = line.strip()\n",
    "            for char in chars:\n",
    "                if char not in charmap:\n",
    "                    charmap[char] = len(charmap)\n",
    "    return charmap\n",
    "\n",
    "def get_unigrams(data_file):\n",
    "    charmap = {}\n",
    "    with open(data_file) as d:\n",
    "        for line in d:\n",
    "            chars = line.strip().split(' ')\n",
    "            for char in chars:\n",
    "                if char not in charmap:\n",
    "                    charmap[char] = 0\n",
    "                charmap[char] += 1\n",
    "    return charmap\n"
   ]
  },
  {
   "cell_type": "code",
   "execution_count": 4,
   "metadata": {},
   "outputs": [],
   "source": [
    "charmap = get_charmap(data_file)"
   ]
  },
  {
   "cell_type": "code",
   "execution_count": 5,
   "metadata": {},
   "outputs": [],
   "source": [
    "charmap_len = len(charmap)"
   ]
  },
  {
   "cell_type": "code",
   "execution_count": 6,
   "metadata": {},
   "outputs": [
    {
     "data": {
      "application/vnd.jupyter.widget-view+json": {
       "model_id": "a58ea390b9f040b58f17a566cc84a4c8",
       "version_major": 2,
       "version_minor": 0
      },
      "text/plain": [
       "IntProgress(value=10)"
      ]
     },
     "metadata": {},
     "output_type": "display_data"
    }
   ],
   "source": [
    "from ipywidgets import IntProgress\n",
    "IntProgress(10,max=100)"
   ]
  },
  {
   "cell_type": "code",
   "execution_count": 7,
   "metadata": {},
   "outputs": [
    {
     "data": {
      "application/vnd.jupyter.widget-view+json": {
       "model_id": "61470e75f1514e4b8c4af513b0dd29be",
       "version_major": 2,
       "version_minor": 0
      },
      "text/plain": [
       "HBox(children=(FloatProgress(value=1.0, bar_style='info', max=1.0), HTML(value='')))"
      ]
     },
     "metadata": {},
     "output_type": "display_data"
    },
    {
     "name": "stdout",
     "output_type": "stream",
     "text": [
      "\n",
      "CPU times: user 21min 54s, sys: 8.16 s, total: 22min 2s\n",
      "Wall time: 42min 4s\n"
     ]
    }
   ],
   "source": [
    "%%time\n",
    "from collections import Counter\n",
    "candidates = {}\n",
    "\n",
    "context_window_size = 3\n",
    "\n",
    "for line in tqdm(get_tokens(data_file)):\n",
    "    #print(line)\n",
    "    for t in range(len(line)):\n",
    "        tok = line[t]\n",
    "        context_left_size = max(t - context_window_size, 0)\n",
    "        context_right_size = min(t + 1 + context_window_size, len(line))\n",
    "        context_left = ''.join(line[context_left_size:t])\n",
    "        context_right = ''.join(line[t + 1: context_right_size])\n",
    "        #print(context_left, tok, context_right)\n",
    "        for i in range(len(tok)):\n",
    "            for j in range(i, len(tok)):\n",
    "                right_context = tok[j+1:] + context_right\n",
    "                left_context =  context_left + tok[:i]\n",
    "                total_context = left_context + right_context\n",
    "                candidate = tok[i:j+1]\n",
    "                if candidate not in candidates:\n",
    "                    candidates[candidate] = numpy.zeros(charmap_len)\n",
    "                for c in total_context:\n",
    "                    candidates[candidate][charmap[c]] += 1\n",
    "                #candidates[candidate]\n",
    "        #break\n",
    "        #print()\n"
   ]
  },
  {
   "cell_type": "code",
   "execution_count": 11,
   "metadata": {},
   "outputs": [
    {
     "data": {
      "text/plain": [
       "1326020"
      ]
     },
     "execution_count": 11,
     "metadata": {},
     "output_type": "execute_result"
    }
   ],
   "source": [
    "len(candidates)"
   ]
  },
  {
   "cell_type": "code",
   "execution_count": 54,
   "metadata": {},
   "outputs": [],
   "source": [
    "word = 'cats'\n",
    "word_vec = candidates[word]\n",
    "#chars = [candidates[p] for p in word]\n",
    "chars = [candidates[p] for p in ['cat', 's ']]\n",
    "\n",
    "sum_chars = sum(chars) \n",
    "#sum_chars = sum_chars/numpy.linalg.norm(sum_chars)"
   ]
  },
  {
   "cell_type": "code",
   "execution_count": 55,
   "metadata": {},
   "outputs": [],
   "source": [
    "from scipy.spatial.distance import cosine"
   ]
  },
  {
   "cell_type": "code",
   "execution_count": 56,
   "metadata": {},
   "outputs": [
    {
     "data": {
      "text/plain": [
       "0.019143108100468487"
      ]
     },
     "execution_count": 56,
     "metadata": {},
     "output_type": "execute_result"
    }
   ],
   "source": [
    "cosine(word_vec, sum_chars)"
   ]
  },
  {
   "cell_type": "code",
   "execution_count": 65,
   "metadata": {},
   "outputs": [
    {
     "data": {
      "text/plain": [
       "0.004580065983352255"
      ]
     },
     "execution_count": 65,
     "metadata": {},
     "output_type": "execute_result"
    }
   ],
   "source": [
    "cosine(candidates['r'], candidates['role'])"
   ]
  },
  {
   "cell_type": "code",
   "execution_count": 60,
   "metadata": {},
   "outputs": [],
   "source": [
    "unigrams = get_unigrams(data_file)"
   ]
  },
  {
   "cell_type": "code",
   "execution_count": 66,
   "metadata": {},
   "outputs": [
    {
     "data": {
      "text/plain": [
       "32"
      ]
     },
     "execution_count": 66,
     "metadata": {},
     "output_type": "execute_result"
    }
   ],
   "source": [
    "unigrams['cat']"
   ]
  },
  {
   "cell_type": "code",
   "execution_count": null,
   "metadata": {},
   "outputs": [],
   "source": []
  }
 ],
 "metadata": {
  "kernelspec": {
   "display_name": "Python 3",
   "language": "python",
   "name": "python3"
  },
  "language_info": {
   "codemirror_mode": {
    "name": "ipython",
    "version": 3
   },
   "file_extension": ".py",
   "mimetype": "text/x-python",
   "name": "python",
   "nbconvert_exporter": "python",
   "pygments_lexer": "ipython3",
   "version": "3.6.7"
  }
 },
 "nbformat": 4,
 "nbformat_minor": 4
}
