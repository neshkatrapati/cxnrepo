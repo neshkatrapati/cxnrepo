{
 "cells": [
  {
   "cell_type": "code",
   "execution_count": 51,
   "metadata": {},
   "outputs": [],
   "source": [
    "data_file = 'data/ukwac-10L.txt'"
   ]
  },
  {
   "cell_type": "code",
   "execution_count": 52,
   "metadata": {},
   "outputs": [],
   "source": [
    "join_me = ['to be', 'have a look']\n",
    "import re\n",
    "import random\n",
    "write_file = data_file + '.cexp'\n",
    "threshold = 0.5\n",
    "with open(data_file, errors='ignore') as d, open(write_file, 'w') as w:\n",
    "    jstats = {x : 0 for x in join_me}\n",
    "    by_space = re.compile('\\s+')\n",
    "    for line in d:\n",
    "        line = line.strip()\n",
    "        if line:\n",
    "            line = ' '.join(by_space.split(line))\n",
    "            for j in join_me:\n",
    "                js = line.count(j)\n",
    "                if js:\n",
    "                    jstats[j] += 1\n",
    "                r = random.random()\n",
    "                if r > threshold:\n",
    "                    line = line.replace(j, '_'.join(j.split(' ')))\n",
    "            w.write(line + '\\n')\n",
    "        \n",
    "                    "
   ]
  },
  {
   "cell_type": "code",
   "execution_count": 53,
   "metadata": {},
   "outputs": [
    {
     "data": {
      "text/plain": [
       "{'to be': 38205, 'have a look': 171}"
      ]
     },
     "execution_count": 53,
     "metadata": {},
     "output_type": "execute_result"
    }
   ],
   "source": [
    "jstats"
   ]
  },
  {
   "cell_type": "code",
   "execution_count": 21,
   "metadata": {},
   "outputs": [],
   "source": [
    "import random"
   ]
  },
  {
   "cell_type": "code",
   "execution_count": 24,
   "metadata": {},
   "outputs": [
    {
     "data": {
      "text/plain": [
       "0.9458584969210958"
      ]
     },
     "execution_count": 24,
     "metadata": {},
     "output_type": "execute_result"
    }
   ],
   "source": [
    "random.random()"
   ]
  },
  {
   "cell_type": "code",
   "execution_count": 54,
   "metadata": {},
   "outputs": [],
   "source": [
    "import numpy"
   ]
  },
  {
   "cell_type": "code",
   "execution_count": 55,
   "metadata": {},
   "outputs": [],
   "source": [
    "from pymagnitude import *"
   ]
  },
  {
   "cell_type": "code",
   "execution_count": 56,
   "metadata": {},
   "outputs": [],
   "source": [
    "mag_file = '../tools/GloVe/cexp/ukwac-10L.cexp.magnitude'\n",
    "vectors = Magnitude(mag_file)"
   ]
  },
  {
   "cell_type": "code",
   "execution_count": 57,
   "metadata": {},
   "outputs": [],
   "source": [
    "from scipy.spatial.distance import cosine"
   ]
  },
  {
   "cell_type": "code",
   "execution_count": 83,
   "metadata": {},
   "outputs": [],
   "source": [
    "def compose(comps, min_threshold=-0.15):\n",
    "    #min_threshold = -0.15\n",
    "    vcomps = []\n",
    "    c_index = None\n",
    "    for i, c in enumerate(comps):\n",
    "        vc = v(c)\n",
    "        if i == 0:\n",
    "            c_index = vc < min_threshold\n",
    "        else:\n",
    "            c_index = c_index | (vc < min_threshold)\n",
    "        vcomps.append(vc)\n",
    "        \n",
    "    vm = sum(vcomps)\n",
    "    vm[c_index] = 0\n",
    "    return vm\n",
    "    "
   ]
  },
  {
   "cell_type": "code",
   "execution_count": 84,
   "metadata": {},
   "outputs": [
    {
     "data": {
      "text/plain": [
       "array([-0.0591901 ,  0.07170039, -0.1522574 , -0.0187132 ,  0.        ,\n",
       "       -0.0586638 ,  0.        ,  0.10726529,  0.29655433, -0.16184181,\n",
       "        0.1368624 ,  0.3018956 ,  0.2618757 ,  0.        , -0.0741246 ,\n",
       "       -0.0711639 ,  0.0013055 ,  0.0326542 ,  0.        , -0.0418454 ,\n",
       "        0.0542514 , -0.14339429, -0.018047  ,  0.0185707 , -0.1354312 ,\n",
       "        0.1902972 , -0.16498241, -0.0811795 ,  0.10383499, -0.14371079,\n",
       "       -0.1567065 ,  0.        ,  0.1818994 , -0.1314704 ,  0.191599  ,\n",
       "        0.3127665 ,  0.028083  , -0.0904288 , -0.1292921 , -0.1478785 ,\n",
       "        0.1578084 , -0.1192655 , -0.0746791 ,  0.1751726 ,  0.0727623 ,\n",
       "        0.1378729 ,  0.2141796 , -0.2032266 ,  0.3170976 ,  0.0758035 ,\n",
       "        0.0520217 ,  0.0532261 ,  0.0521596 , -0.1589828 , -0.056439  ,\n",
       "       -0.0848725 , -0.0896006 ,  0.        ,  0.        ,  0.12442951,\n",
       "       -0.0516488 , -0.1590414 ,  0.0610341 , -0.1051727 ,  0.        ,\n",
       "       -0.0516866 ,  0.183944  , -0.20830199,  0.0514364 , -0.0991582 ,\n",
       "        0.1226568 ,  0.0523437 ,  0.0101277 , -0.0260453 ,  0.        ,\n",
       "        0.1779482 , -0.0986983 ,  0.09743971,  0.1330609 ,  0.159967  ,\n",
       "       -0.1196738 , -0.0031032 , -0.1071863 , -0.0461639 ,  0.080309  ,\n",
       "        0.5100954 ,  0.0456159 , -0.0677422 , -0.1433713 ,  0.        ,\n",
       "        0.1117025 ,  0.027605  ,  0.0838941 ,  0.2148369 ,  0.050587  ,\n",
       "        0.0268879 ,  0.        ,  0.        , -0.0964025 , -0.1318254 ],\n",
       "      dtype=float32)"
      ]
     },
     "execution_count": 84,
     "metadata": {},
     "output_type": "execute_result"
    }
   ],
   "source": [
    "compose(['to', 'be'])"
   ]
  },
  {
   "cell_type": "code",
   "execution_count": 85,
   "metadata": {},
   "outputs": [
    {
     "data": {
      "text/plain": [
       "0.0"
      ]
     },
     "execution_count": 85,
     "metadata": {},
     "output_type": "execute_result"
    }
   ],
   "source": [
    "cosine(vectors.query('a'), vectors.query('a'))"
   ]
  },
  {
   "cell_type": "code",
   "execution_count": 86,
   "metadata": {},
   "outputs": [],
   "source": [
    "v = lambda x : vectors.query(x)"
   ]
  },
  {
   "cell_type": "code",
   "execution_count": 87,
   "metadata": {},
   "outputs": [],
   "source": [
    "jvs = [vectors.query(j) for j in join_me]"
   ]
  },
  {
   "cell_type": "code",
   "execution_count": 97,
   "metadata": {},
   "outputs": [
    {
     "name": "stdout",
     "output_type": "stream",
     "text": [
      "['to', 'be']\n",
      "to be 0.8518580178912096\n",
      "['have', 'a', 'look']\n",
      "have a look 0.26099742998378694\n"
     ]
    }
   ],
   "source": [
    "import numpy\n",
    "for i,j in enumerate(join_me):\n",
    "    jparts = j.split(' ')\n",
    "    print(jparts)\n",
    "    jpart_vs = [vectors.query(x) for x in jparts]\n",
    "    #jpart_mean = sum(jpart_vs)\n",
    "    jpart_mean = compose(jparts, min_threshold=-0.2)\n",
    "    print(j, cosine(jpart_mean, v(j)))"
   ]
  },
  {
   "cell_type": "code",
   "execution_count": 40,
   "metadata": {},
   "outputs": [
    {
     "data": {
      "text/plain": [
       "0.1532384157180786"
      ]
     },
     "execution_count": 40,
     "metadata": {},
     "output_type": "execute_result"
    }
   ],
   "source": [
    "cosine(v('to') + v('be'), v('to_be'))"
   ]
  },
  {
   "cell_type": "code",
   "execution_count": 46,
   "metadata": {},
   "outputs": [
    {
     "data": {
      "text/plain": [
       "array([-0.0591901 ,  0.07170039, -0.1522574 , -0.0187132 , -0.3855369 ,\n",
       "       -0.0586638 , -0.2690843 ,  0.10726529,  0.29655433, -0.16184181,\n",
       "        0.1368624 ,  0.3018956 ,  0.2618757 , -0.3131643 , -0.0741246 ,\n",
       "       -0.0711639 ,  0.0013055 ,  0.0326542 , -0.51192224, -0.0418454 ,\n",
       "        0.0542514 , -0.14339429, -0.018047  ,  0.0185707 , -0.1354312 ,\n",
       "        0.1902972 , -0.16498241, -0.0811795 ,  0.10383499, -0.14371079,\n",
       "       -0.1567065 , -0.4424857 ,  0.1818994 , -0.1314704 ,  0.191599  ,\n",
       "        0.3127665 ,  0.028083  , -0.0904288 , -0.1292921 , -0.1478785 ,\n",
       "        0.1578084 , -0.1192655 , -0.0746791 ,  0.1751726 ,  0.0727623 ,\n",
       "        0.1378729 ,  0.2141796 , -0.2032266 ,  0.3170976 ,  0.0758035 ,\n",
       "        0.0520217 ,  0.0532261 ,  0.0521596 , -0.1589828 , -0.056439  ,\n",
       "       -0.0848725 , -0.0896006 , -0.3015425 , -0.2693216 ,  0.12442951,\n",
       "       -0.0516488 , -0.1590414 ,  0.0610341 , -0.1051727 , -0.2383861 ,\n",
       "       -0.0516866 ,  0.183944  , -0.20830199,  0.0514364 , -0.0991582 ,\n",
       "        0.1226568 ,  0.0523437 ,  0.0101277 , -0.0260453 , -0.39695448,\n",
       "        0.1779482 , -0.0986983 ,  0.09743971,  0.1330609 ,  0.159967  ,\n",
       "       -0.1196738 , -0.0031032 , -0.1071863 , -0.0461639 ,  0.080309  ,\n",
       "        0.5100954 ,  0.0456159 , -0.0677422 , -0.1433713 , -0.436491  ,\n",
       "        0.1117025 ,  0.027605  ,  0.0838941 ,  0.2148369 ,  0.050587  ,\n",
       "        0.0268879 , -0.29350752, -0.3145127 , -0.0964025 , -0.1318254 ],\n",
       "      dtype=float32)"
      ]
     },
     "execution_count": 46,
     "metadata": {},
     "output_type": "execute_result"
    }
   ],
   "source": [
    "sum([v('to'), v('be')])"
   ]
  },
  {
   "cell_type": "code",
   "execution_count": 47,
   "metadata": {},
   "outputs": [
    {
     "data": {
      "text/plain": [
       "array([-0.0591901 ,  0.07170039, -0.1522574 , -0.0187132 , -0.3855369 ,\n",
       "       -0.0586638 , -0.2690843 ,  0.10726529,  0.29655433, -0.16184181,\n",
       "        0.1368624 ,  0.3018956 ,  0.2618757 , -0.3131643 , -0.0741246 ,\n",
       "       -0.0711639 ,  0.0013055 ,  0.0326542 , -0.51192224, -0.0418454 ,\n",
       "        0.0542514 , -0.14339429, -0.018047  ,  0.0185707 , -0.1354312 ,\n",
       "        0.1902972 , -0.16498241, -0.0811795 ,  0.10383499, -0.14371079,\n",
       "       -0.1567065 , -0.4424857 ,  0.1818994 , -0.1314704 ,  0.191599  ,\n",
       "        0.3127665 ,  0.028083  , -0.0904288 , -0.1292921 , -0.1478785 ,\n",
       "        0.1578084 , -0.1192655 , -0.0746791 ,  0.1751726 ,  0.0727623 ,\n",
       "        0.1378729 ,  0.2141796 , -0.2032266 ,  0.3170976 ,  0.0758035 ,\n",
       "        0.0520217 ,  0.0532261 ,  0.0521596 , -0.1589828 , -0.056439  ,\n",
       "       -0.0848725 , -0.0896006 , -0.3015425 , -0.2693216 ,  0.12442951,\n",
       "       -0.0516488 , -0.1590414 ,  0.0610341 , -0.1051727 , -0.2383861 ,\n",
       "       -0.0516866 ,  0.183944  , -0.20830199,  0.0514364 , -0.0991582 ,\n",
       "        0.1226568 ,  0.0523437 ,  0.0101277 , -0.0260453 , -0.39695448,\n",
       "        0.1779482 , -0.0986983 ,  0.09743971,  0.1330609 ,  0.159967  ,\n",
       "       -0.1196738 , -0.0031032 , -0.1071863 , -0.0461639 ,  0.080309  ,\n",
       "        0.5100954 ,  0.0456159 , -0.0677422 , -0.1433713 , -0.436491  ,\n",
       "        0.1117025 ,  0.027605  ,  0.0838941 ,  0.2148369 ,  0.050587  ,\n",
       "        0.0268879 , -0.29350752, -0.3145127 , -0.0964025 , -0.1318254 ],\n",
       "      dtype=float32)"
      ]
     },
     "execution_count": 47,
     "metadata": {},
     "output_type": "execute_result"
    }
   ],
   "source": [
    "v('to') + v('be')"
   ]
  },
  {
   "cell_type": "code",
   "execution_count": 104,
   "metadata": {},
   "outputs": [],
   "source": [
    "vmmap = vectors.get_vectors_mmap()"
   ]
  },
  {
   "cell_type": "code",
   "execution_count": 120,
   "metadata": {},
   "outputs": [],
   "source": [
    "from sklearn.cluster import KMeans, OPTICS, DBSCAN"
   ]
  },
  {
   "cell_type": "code",
   "execution_count": null,
   "metadata": {},
   "outputs": [],
   "source": [
    "#vkmeans = KMeans(n_clusters = 20, random_state=0).fit(vmmap)\n",
    "vkmeans = DBSCAN(min_samples=5).fit(vmmap)"
   ]
  },
  {
   "cell_type": "code",
   "execution_count": 114,
   "metadata": {},
   "outputs": [],
   "source": [
    "from collections import Counter\n",
    "cassigns = [[] for i in range(20)]\n",
    "\n",
    "for i, cassign in enumerate(vkmeans.labels_):\n",
    "    cassigns[cassign].append(vectors.index(i)[0])\n"
   ]
  },
  {
   "cell_type": "code",
   "execution_count": 116,
   "metadata": {},
   "outputs": [
    {
     "name": "stdout",
     "output_type": "stream",
     "text": [
      "0 35677 ['Tir', 'feng', 'mis', 'MOBUTU', 'ELSE', 'Gofal', 'Lei', 'Surnames', 'Ein', 'SILVER', 'biloba', 'mit', '*No', '5M', 'ANNOUNCES', 'Begum', 'Kahlo', 'Massimo', '****Hotel', '10.74']\n",
      "1 23640 ['July', 'September', 'April', 'March', 'October', 'January', 'August', 'November', '14', 'December', 'February', '13', '17', 'OF', '21', '19', 'PM', 'Monday', '22', '23']\n",
      "2 20108 ['ext', '023', 'OVER', 'Approx', 'BEFORE', 'WERE', 'SOME', 'THEIR', 'Chem', 'Biol', 'ANSWER', 'SINGLE', 'Exp', 'Enlisted', 'Ironbridge', 'Acta', 'THEM', 'fr', 'Cf', 'KEEP']\n",
      "3 32436 ['WITH', '_________________', 'HEALTH', 'WORLD', 'SERVICE', 'SPECIAL', 'LIST', 'DEVELOPMENT', 'GET', 'ISSN', 'SUPPORT', 'GOOD', 'INTO', 'l.', 'MANAGEMENT', 'NEED', 'OFFICE', 'ONLINE', 'SCHOOL', 'UNIVERSITY']\n",
      "4 34490 ['val', 'blah', 'peer-reviewed', 're-appointed', '2px', '3px', 'WG3', 'positional', 'ccp4bb', 'OWN', 'today.', '373', 'ADDRESS', 'Cassette', 'CASCAiD', 'non-cash', 'HPV', 'sites.', '499.00', 'resources.']\n",
      "5 50418 ['atmosphere', 'soft', 'beauty', 'mountain', 'moral', 'steel', 'iron', 'narrow', 'emotional', 'potentially', 'rapidly', 'furniture', 'sexual', 'bone', 'memories', 'dramatic', 'northern', 'wet', 'diseases', 'regulatory']\n",
      "6 25547 ['UK.', 'peninsula', 'secretariat', 'Treo', 'MARKET', 'SEAMUS', 'f95', 'LASER', 'Nicorette', 'constellation', 'Lune', 'Te', '5b', 'Bovine', 'Nasal', 'Veda', 'hon.', 'Filling', 'xxxxxxxxxx', 'Aqueduct']\n",
      "7 33086 [\"'d\", 'hardly', 'dont', 'surprised', 'worried', 'glad', 'ye', 'hurt', 'somebody', 'BE', 'u', 'thou', 'cant', 'Yeah', 'wished', 'THAT', 'it’s', 'Im', 'no-one', 'Ah']\n",
      "8 23241 ['begat', 'Minnie', '&#61656', 'Nos', 'fi', 'dos', 'Hana', 'Spare', 'J.J.', 'Jawad', 'TS', '|--', 'Erik', 'Soprano', 'mu', 'Aymara', 'NTO', '6C', 'BRIAN', 'Chatto']\n",
      "9 17341 ['Pair', 'quay', 'Named', 'ISO/IEC', '9.3', 'Chronology', 'Tired', 'RECORD', 'Shades', 'JUSTICE', 'Potatoes', 'Cwm', 'PERSON', 'Benin', 'LANCASHIRE', 'Routing', 'Franciscan', 'Lease', 'crested', 'kilograms']\n",
      "10 9881 ['so-called', 'OUT', '_', 'titled', 'un', 'Die', 'shouted', '“The', 'LIFE', 'hello', 'termed', 'und', 'dubbed', 'img', 'Ha', 'NumLock', '/o:p', '10.0pt', 'Der', 'class=3DMsoPlainText']\n",
      "11 36206 ['Research', 'International', 'Association', 'Development', 'Royal', 'Management', 'Community', 'Institute', 'Tel', 'Social', 'Club', 'Science', 'Training', 'Project', 'Studies', 'Policy', 'Art', 'Online', 'Conference', 'Manager']\n",
      "12 47271 ['GBR', 'Goa', 'P-S', 'Chord', 'BUOYS', 'POSITIVE', '21:00', 'Acids', 'var.', 'POLAR', 'BRANCH', 'DEVELOPING', 'Rasa', 'N2k', 'On/off', 'PLASTIC', '#5p62', 'CORPORATION', 'Sih', 'Summa']\n",
      "13 22128 ['the', ',', '.', 'of', 'and', 'to', 'a', 'in', 'is', 'for', 'that', 'on', 'The', ')', ':', '(', 'with', 'are', 'be', 'as']\n",
      "14 16372 ['020', 'Fax', '0)20', 'Replied', 'Authors', 'Keywords', '028', '0131', '0207', '0121', 'N/A', '-----', '0px', '0141', 'DeweyClass', '0117', '0115', 'PAGES', 'Provenance', '0191']\n",
      "15 25626 ['John', 'Mr', 'Dr', 'David', 'Paul', 'de', 'Peter', 'James', 'Professor', 'George', 'William', 'Richard', 'Mr.', 'Michael', 'Sir', 'Mark', 'et', 'Robert', 'Thomas', 'Chief']\n",
      "16 29954 ['yn', 'DI', 'ac', 'Helvetica', 'KY', 'KK', 'kappaalpha&#8054', '11px', 'que', 'DYK', 'Das', 'yw', 'Sans', 'bod', 'serif', 'Uhr', 'LIABILITY', 'WITHOUT', 'b/n', 'LET']\n",
      "17 14482 ['persuade', 'hesitate', 'them.', 'educate', 'unsubscribe', 'configure', 'allocate', 'Basket', 'Ability', 'Lets', 'refine', 'Dont', 'purchasers', 'prioritise', 'volunteered', 'liaise', 'to_better', 'Trying', 'Cookies', 'Enable']\n",
      "18 16379 ['/a', '#jobsbox', 'Become', 'Generating', 'rehab', 'purifier', 'snapshot', 'COMPANY', 'airfare', \"o'r\", 'gan', 'service.', 'RETURN', 'Becoming', 'jolly', 'z', 'oedd', 'bitch', 'rock.', 'tad']\n",
      "19 22142 ['+44', 'Clause', '0.00', 'JK', 'vi', 'encoded', 'eds.', 'mg/day', 'Psalm', 'CPR', 'EUR', '0118', 'c/n', 'Melissa', '161', '0.01', '+1', 'DATA', 'Folio', 'Eng']\n"
     ]
    }
   ],
   "source": [
    "for i, cassign in enumerate(cassigns):\n",
    "    print(i, len(cassign), cassign[:20])"
   ]
  },
  {
   "cell_type": "code",
   "execution_count": null,
   "metadata": {},
   "outputs": [],
   "source": []
  }
 ],
 "metadata": {
  "kernelspec": {
   "display_name": "Python 3",
   "language": "python",
   "name": "python3"
  },
  "language_info": {
   "codemirror_mode": {
    "name": "ipython",
    "version": 3
   },
   "file_extension": ".py",
   "mimetype": "text/x-python",
   "name": "python",
   "nbconvert_exporter": "python",
   "pygments_lexer": "ipython3",
   "version": "3.8.2"
  }
 },
 "nbformat": 4,
 "nbformat_minor": 4
}
